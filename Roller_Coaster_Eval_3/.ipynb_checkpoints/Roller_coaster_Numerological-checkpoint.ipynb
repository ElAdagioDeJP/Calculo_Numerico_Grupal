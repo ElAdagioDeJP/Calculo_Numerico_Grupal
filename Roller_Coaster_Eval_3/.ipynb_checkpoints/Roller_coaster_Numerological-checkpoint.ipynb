{
 "cells": [
  {
   "cell_type": "code",
   "execution_count": null,
   "id": "25ad470a-b822-4687-beb7-9910dd2a0c19",
   "metadata": {},
   "outputs": [],
   "source": []
  },
  {
   "cell_type": "code",
   "execution_count": null,
   "id": "e3c8b962-3ee5-478b-8555-4bdfb5e44b64",
   "metadata": {},
   "outputs": [],
   "source": [
    "using HTTP #Exporto las funciones\n",
    "using JSON\n",
    "using Pkg\n",
    "Pkg.add(\"CSV\")\n",
    "Pkg.add(\"DataFrames\")\n",
    "\n",
    "#Pido los datos a la api\n",
    "url = \"https://api.n2yo.com/rest/v1/satellite/tle/25544&apiKey=T58NBR-Q5NHQE-Y76PS5-59V1\"\n",
    "res = HTTP.get(url)\n",
    "json = JSON.parse(String(res.body))\n",
    "puntos_satelites = json[\"tle\"]\n",
    "print(puntos_satelites)\n",
    "\n",
    "df = CSV.read(\"points.csv\", DataFrame)\n",
    "lista_diccionarios = [Dict(row) for row in eachrow(df)]\n",
    "print(lista_diccionarios)\n"
   ]
  },
  {
   "cell_type": "code",
   "execution_count": null,
   "id": "02a51f89-9c95-437e-bd01-32c79f98033f",
   "metadata": {},
   "outputs": [],
   "source": []
  }
 ],
 "metadata": {
  "kernelspec": {
   "display_name": "Julia 1.10.3",
   "language": "julia",
   "name": "julia-1.10"
  },
  "language_info": {
   "file_extension": ".jl",
   "mimetype": "application/julia",
   "name": "julia",
   "version": "1.10.3"
  }
 },
 "nbformat": 4,
 "nbformat_minor": 5
}
