{
 "cells": [
  {
   "cell_type": "markdown",
   "id": "f76719d1-fc6d-47c1-9af3-83dbb58e2f3a",
   "metadata": {},
   "source": [
    "# Montaña Rusa de la Era Digital 😎"
   ]
  },
  {
   "cell_type": "code",
   "execution_count": 33,
   "id": "e3c8b962-3ee5-478b-8555-4bdfb5e44b64",
   "metadata": {},
   "outputs": [
    {
     "data": {
      "text/plain": [
       "4-element CSV.File:\n",
       " CSV.Row: (var\"0\" = 1, var\"1\" = 2, var\"2\" = 1)\n",
       " CSV.Row: (var\"0\" = 2, var\"1\" = -1, var\"2\" = 1)\n",
       " CSV.Row: (var\"0\" = 3, var\"1\" = 1, var\"2\" = -1)\n",
       " CSV.Row: (var\"0\" = 4, var\"1\" = 1, var\"2\" = -2)"
      ]
     },
     "execution_count": 33,
     "metadata": {},
     "output_type": "execute_result"
    }
   ],
   "source": [
    "using HTTP #Exporto las funciones\n",
    "using JSON\n",
    "using DataFrames\n",
    "using CSV\n",
    "\n",
    "#Pido los datos a la api\n",
    "url = \"https://api.n2yo.com/rest/v1/satellite/tle/25544&apiKey=T58NBR-Q5NHQE-Y76PS5-59V1\"\n",
    "res = HTTP.get(url)\n",
    "json = JSON.parse(String(res.body))\n",
    "puntos_satelites = json[\"tle\"]\n",
    "\n",
    "\n",
    "datos_1 = CSV.File(\"Puntos_1.csv\")\n",
    "datos_2 = CSV.File(\"Puntos_2.csv\")\n",
    "datos_3 = CSV.File(\"Puntos_3.csv\")\n",
    "print(\"Datos obtenidos de forma correcta\")"
   ]
  },
  {
   "cell_type": "code",
   "execution_count": null,
   "id": "02a51f89-9c95-437e-bd01-32c79f98033f",
   "metadata": {},
   "outputs": [],
   "source": []
  }
 ],
 "metadata": {
  "kernelspec": {
   "display_name": "Julia 1.10.3",
   "language": "julia",
   "name": "julia-1.10"
  },
  "language_info": {
   "file_extension": ".jl",
   "mimetype": "application/julia",
   "name": "julia",
   "version": "1.10.3"
  }
 },
 "nbformat": 4,
 "nbformat_minor": 5
}
