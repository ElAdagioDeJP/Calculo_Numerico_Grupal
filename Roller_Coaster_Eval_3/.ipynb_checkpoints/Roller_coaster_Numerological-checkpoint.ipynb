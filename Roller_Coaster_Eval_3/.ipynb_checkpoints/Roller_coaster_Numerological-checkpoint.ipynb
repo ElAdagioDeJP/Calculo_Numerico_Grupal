{
 "cells": [
  {
   "cell_type": "code",
   "execution_count": null,
   "id": "25ad470a-b822-4687-beb7-9910dd2a0c19",
   "metadata": {},
   "outputs": [],
   "source": []
  },
  {
   "cell_type": "code",
   "execution_count": 2,
   "id": "e3c8b962-3ee5-478b-8555-4bdfb5e44b64",
   "metadata": {},
   "outputs": [
    {
     "name": "stdout",
     "output_type": "stream",
     "text": [
      "1 25544U 98067A   24175.55009259  .00016649  00000-0  30201-3 0  9999\n",
      "2 25544  51.6417 283.7698 0010899 359.4002 174.6743 15.49669887459530"
     ]
    },
    {
     "data": {
      "text/html": [
       "<table border=\"1\" class=\"dataframe\">\n",
       "  <thead>\n",
       "    <tr style=\"text-align: right;\">\n",
       "      <th></th>\n",
       "      <th>0;1;2;3;4;5</th>\n",
       "    </tr>\n",
       "  </thead>\n",
       "  <tbody>\n",
       "    <tr>\n",
       "      <th>0</th>\n",
       "      <td>0.5;0.8;1.0;0.9;1.2;0.7</td>\n",
       "    </tr>\n",
       "  </tbody>\n",
       "</table>\n"
      ],
      "text/plain": [
       "               0;1;2;3;4;5\n",
       "0  0.5;0.8;1.0;0.9;1.2;0.7\n"
      ]
     },
     "execution_count": 2,
     "metadata": {},
     "output_type": "execute_result"
    }
   ],
   "source": [
    "using HTTP #Exporto las funciones\n",
    "using JSON\n",
    "using DataFrames\n",
    "using Pandas\n",
    "\n",
    "#Pido los datos a la api\n",
    "url = \"https://api.n2yo.com/rest/v1/satellite/tle/25544&apiKey=T58NBR-Q5NHQE-Y76PS5-59V1\"\n",
    "res = HTTP.get(url)\n",
    "json = JSON.parse(String(res.body))\n",
    "puntos_satelites = json[\"tle\"]\n",
    "print(puntos_satelites)\n",
    "\n",
    "datos = Pandas.read_csv(\"points.csv\")"
   ]
  },
  {
   "cell_type": "code",
   "execution_count": null,
   "id": "02a51f89-9c95-437e-bd01-32c79f98033f",
   "metadata": {},
   "outputs": [],
   "source": []
  }
 ],
 "metadata": {
  "kernelspec": {
   "display_name": "Julia 1.10.3",
   "language": "julia",
   "name": "julia-1.10"
  },
  "language_info": {
   "file_extension": ".jl",
   "mimetype": "application/julia",
   "name": "julia",
   "version": "1.10.3"
  }
 },
 "nbformat": 4,
 "nbformat_minor": 5
}
