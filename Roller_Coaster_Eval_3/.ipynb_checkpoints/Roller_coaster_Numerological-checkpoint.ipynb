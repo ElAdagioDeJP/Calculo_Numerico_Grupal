{
 "cells": [
  {
   "cell_type": "code",
   "execution_count": null,
   "id": "e3c8b962-3ee5-478b-8555-4bdfb5e44b64",
   "metadata": {},
   "outputs": [],
   "source": [
    "import request"
   ]
  }
 ],
 "metadata": {
  "kernelspec": {
   "display_name": "Julia 1.10.3",
   "language": "julia",
   "name": "julia-1.10"
  },
  "language_info": {
   "file_extension": ".jl",
   "mimetype": "application/julia",
   "name": "julia",
   "version": "1.10.3"
  }
 },
 "nbformat": 4,
 "nbformat_minor": 5
}
