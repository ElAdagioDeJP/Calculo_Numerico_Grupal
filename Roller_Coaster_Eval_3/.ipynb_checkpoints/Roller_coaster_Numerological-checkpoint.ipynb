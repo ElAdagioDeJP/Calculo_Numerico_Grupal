{
 "cells": [
  {
   "cell_type": "code",
   "execution_count": 4,
   "id": "e3c8b962-3ee5-478b-8555-4bdfb5e44b64",
   "metadata": {},
   "outputs": [
    {
     "ename": "LoadError",
     "evalue": "HTTP.RequestError:\nHTTP.Request:\nHTTP.Messages.Request:\n\"\"\"\nGET /object-coordinates-stream?version=2&api_key=ef7d7913-bb8e-41d8-92da-94d3129801bd HTTP/1.1\r\nHost: api.fm-track.com\r\nAccept: */*\r\nUser-Agent: HTTP.jl/1.10.3\r\nContent-Length: 0\r\nAccept-Encoding: gzip\r\n\r\n\"\"\"Underlying error:\nIOError: unexpected EOF",
     "output_type": "error",
     "traceback": [
      "HTTP.RequestError:\nHTTP.Request:\nHTTP.Messages.Request:\n\"\"\"\nGET /object-coordinates-stream?version=2&api_key=ef7d7913-bb8e-41d8-92da-94d3129801bd HTTP/1.1\r\nHost: api.fm-track.com\r\nAccept: */*\r\nUser-Agent: HTTP.jl/1.10.3\r\nContent-Length: 0\r\nAccept-Encoding: gzip\r\n\r\n\"\"\"Underlying error:\nIOError: unexpected EOF",
      "",
      "Stacktrace:",
      "  [1] (::HTTP.ConnectionRequest.var\"#connections#4\"{HTTP.ConnectionRequest.var\"#connections#1#5\"{HTTP.TimeoutRequest.var\"#timeouts#3\"{HTTP.TimeoutRequest.var\"#timeouts#1#4\"{HTTP.ExceptionRequest.var\"#exceptions#2\"{HTTP.ExceptionRequest.var\"#exceptions#1#3\"{typeof(HTTP.StreamRequest.streamlayer)}}}}}})(req::HTTP.Messages.Request; proxy::Nothing, socket_type::Type, socket_type_tls::Nothing, readtimeout::Int64, connect_timeout::Int64, logerrors::Bool, logtag::Nothing, closeimmediately::Bool, kw::@Kwargs{iofunction::Nothing, decompress::Nothing, verbose::Int64})",
      "    @ HTTP.ConnectionRequest C:\\Users\\ElAdagioDeJP\\.julia\\packages\\HTTP\\sJD5V\\src\\clientlayers\\ConnectionRequest.jl:143",
      "  [2] connections",
      "    @ C:\\Users\\ElAdagioDeJP\\.julia\\packages\\HTTP\\sJD5V\\src\\clientlayers\\ConnectionRequest.jl:60 [inlined]",
      "  [3] (::Base.var\"#96#98\"{Base.var\"#96#97#99\"{ExponentialBackOff, HTTP.RetryRequest.var\"#2#5\"{Int64, typeof(HTTP.RetryRequest.FALSE), HTTP.Messages.Request, Base.RefValue{Int64}}, HTTP.ConnectionRequest.var\"#connections#4\"{HTTP.ConnectionRequest.var\"#connections#1#5\"{HTTP.TimeoutRequest.var\"#timeouts#3\"{HTTP.TimeoutRequest.var\"#timeouts#1#4\"{HTTP.ExceptionRequest.var\"#exceptions#2\"{HTTP.ExceptionRequest.var\"#exceptions#1#3\"{typeof(HTTP.StreamRequest.streamlayer)}}}}}}}})(args::HTTP.Messages.Request; kwargs::@Kwargs{iofunction::Nothing, decompress::Nothing, verbose::Int64})",
      "    @ Base .\\error.jl:308",
      "  [4] (::HTTP.RetryRequest.var\"#manageretries#3\"{HTTP.RetryRequest.var\"#manageretries#1#4\"{HTTP.ConnectionRequest.var\"#connections#4\"{HTTP.ConnectionRequest.var\"#connections#1#5\"{HTTP.TimeoutRequest.var\"#timeouts#3\"{HTTP.TimeoutRequest.var\"#timeouts#1#4\"{HTTP.ExceptionRequest.var\"#exceptions#2\"{HTTP.ExceptionRequest.var\"#exceptions#1#3\"{typeof(HTTP.StreamRequest.streamlayer)}}}}}}}})(req::HTTP.Messages.Request; retry::Bool, retries::Int64, retry_delays::ExponentialBackOff, retry_check::Function, retry_non_idempotent::Bool, kw::@Kwargs{iofunction::Nothing, decompress::Nothing, verbose::Int64})",
      "    @ HTTP.RetryRequest C:\\Users\\ElAdagioDeJP\\.julia\\packages\\HTTP\\sJD5V\\src\\clientlayers\\RetryRequest.jl:75",
      "  [5] manageretries",
      "    @ C:\\Users\\ElAdagioDeJP\\.julia\\packages\\HTTP\\sJD5V\\src\\clientlayers\\RetryRequest.jl:30 [inlined]",
      "  [6] (::HTTP.CookieRequest.var\"#managecookies#4\"{HTTP.CookieRequest.var\"#managecookies#1#5\"{HTTP.RetryRequest.var\"#manageretries#3\"{HTTP.RetryRequest.var\"#manageretries#1#4\"{HTTP.ConnectionRequest.var\"#connections#4\"{HTTP.ConnectionRequest.var\"#connections#1#5\"{HTTP.TimeoutRequest.var\"#timeouts#3\"{HTTP.TimeoutRequest.var\"#timeouts#1#4\"{HTTP.ExceptionRequest.var\"#exceptions#2\"{HTTP.ExceptionRequest.var\"#exceptions#1#3\"{typeof(HTTP.StreamRequest.streamlayer)}}}}}}}}}})(req::HTTP.Messages.Request; cookies::Bool, cookiejar::HTTP.Cookies.CookieJar, kw::@Kwargs{iofunction::Nothing, decompress::Nothing, verbose::Int64})",
      "    @ HTTP.CookieRequest C:\\Users\\ElAdagioDeJP\\.julia\\packages\\HTTP\\sJD5V\\src\\clientlayers\\CookieRequest.jl:42",
      "  [7] managecookies",
      "    @ C:\\Users\\ElAdagioDeJP\\.julia\\packages\\HTTP\\sJD5V\\src\\clientlayers\\CookieRequest.jl:19 [inlined]",
      "  [8] (::HTTP.HeadersRequest.var\"#defaultheaders#2\"{HTTP.HeadersRequest.var\"#defaultheaders#1#3\"{HTTP.CookieRequest.var\"#managecookies#4\"{HTTP.CookieRequest.var\"#managecookies#1#5\"{HTTP.RetryRequest.var\"#manageretries#3\"{HTTP.RetryRequest.var\"#manageretries#1#4\"{HTTP.ConnectionRequest.var\"#connections#4\"{HTTP.ConnectionRequest.var\"#connections#1#5\"{HTTP.TimeoutRequest.var\"#timeouts#3\"{HTTP.TimeoutRequest.var\"#timeouts#1#4\"{HTTP.ExceptionRequest.var\"#exceptions#2\"{HTTP.ExceptionRequest.var\"#exceptions#1#3\"{typeof(HTTP.StreamRequest.streamlayer)}}}}}}}}}}}})(req::HTTP.Messages.Request; iofunction::Nothing, decompress::Nothing, basicauth::Bool, detect_content_type::Bool, canonicalize_headers::Bool, kw::@Kwargs{verbose::Int64})",
      "    @ HTTP.HeadersRequest C:\\Users\\ElAdagioDeJP\\.julia\\packages\\HTTP\\sJD5V\\src\\clientlayers\\HeadersRequest.jl:71",
      "  [9] defaultheaders",
      "    @ C:\\Users\\ElAdagioDeJP\\.julia\\packages\\HTTP\\sJD5V\\src\\clientlayers\\HeadersRequest.jl:14 [inlined]",
      " [10] (::HTTP.RedirectRequest.var\"#redirects#3\"{HTTP.RedirectRequest.var\"#redirects#1#4\"{HTTP.HeadersRequest.var\"#defaultheaders#2\"{HTTP.HeadersRequest.var\"#defaultheaders#1#3\"{HTTP.CookieRequest.var\"#managecookies#4\"{HTTP.CookieRequest.var\"#managecookies#1#5\"{HTTP.RetryRequest.var\"#manageretries#3\"{HTTP.RetryRequest.var\"#manageretries#1#4\"{HTTP.ConnectionRequest.var\"#connections#4\"{HTTP.ConnectionRequest.var\"#connections#1#5\"{HTTP.TimeoutRequest.var\"#timeouts#3\"{HTTP.TimeoutRequest.var\"#timeouts#1#4\"{HTTP.ExceptionRequest.var\"#exceptions#2\"{HTTP.ExceptionRequest.var\"#exceptions#1#3\"{typeof(HTTP.StreamRequest.streamlayer)}}}}}}}}}}}}}})(req::HTTP.Messages.Request; redirect::Bool, redirect_limit::Int64, redirect_method::Nothing, forwardheaders::Bool, response_stream::Nothing, kw::@Kwargs{verbose::Int64})",
      "    @ HTTP.RedirectRequest C:\\Users\\ElAdagioDeJP\\.julia\\packages\\HTTP\\sJD5V\\src\\clientlayers\\RedirectRequest.jl:25",
      " [11] redirects",
      "    @ C:\\Users\\ElAdagioDeJP\\.julia\\packages\\HTTP\\sJD5V\\src\\clientlayers\\RedirectRequest.jl:14 [inlined]",
      " [12] (::HTTP.MessageRequest.var\"#makerequest#3\"{HTTP.MessageRequest.var\"#makerequest#1#4\"{HTTP.RedirectRequest.var\"#redirects#3\"{HTTP.RedirectRequest.var\"#redirects#1#4\"{HTTP.HeadersRequest.var\"#defaultheaders#2\"{HTTP.HeadersRequest.var\"#defaultheaders#1#3\"{HTTP.CookieRequest.var\"#managecookies#4\"{HTTP.CookieRequest.var\"#managecookies#1#5\"{HTTP.RetryRequest.var\"#manageretries#3\"{HTTP.RetryRequest.var\"#manageretries#1#4\"{HTTP.ConnectionRequest.var\"#connections#4\"{HTTP.ConnectionRequest.var\"#connections#1#5\"{HTTP.TimeoutRequest.var\"#timeouts#3\"{HTTP.TimeoutRequest.var\"#timeouts#1#4\"{HTTP.ExceptionRequest.var\"#exceptions#2\"{HTTP.ExceptionRequest.var\"#exceptions#1#3\"{typeof(HTTP.StreamRequest.streamlayer)}}}}}}}}}}}}}}}})(method::String, url::URIs.URI, headers::Nothing, body::Vector{UInt8}; copyheaders::Bool, response_stream::Nothing, http_version::HTTP.Strings.HTTPVersion, verbose::Int64, kw::@Kwargs{})",
      "    @ HTTP.MessageRequest C:\\Users\\ElAdagioDeJP\\.julia\\packages\\HTTP\\sJD5V\\src\\clientlayers\\MessageRequest.jl:35",
      " [13] makerequest",
      "    @ C:\\Users\\ElAdagioDeJP\\.julia\\packages\\HTTP\\sJD5V\\src\\clientlayers\\MessageRequest.jl:24 [inlined]",
      " [14] request(stack::HTTP.MessageRequest.var\"#makerequest#3\"{HTTP.MessageRequest.var\"#makerequest#1#4\"{HTTP.RedirectRequest.var\"#redirects#3\"{HTTP.RedirectRequest.var\"#redirects#1#4\"{HTTP.HeadersRequest.var\"#defaultheaders#2\"{HTTP.HeadersRequest.var\"#defaultheaders#1#3\"{HTTP.CookieRequest.var\"#managecookies#4\"{HTTP.CookieRequest.var\"#managecookies#1#5\"{HTTP.RetryRequest.var\"#manageretries#3\"{HTTP.RetryRequest.var\"#manageretries#1#4\"{HTTP.ConnectionRequest.var\"#connections#4\"{HTTP.ConnectionRequest.var\"#connections#1#5\"{HTTP.TimeoutRequest.var\"#timeouts#3\"{HTTP.TimeoutRequest.var\"#timeouts#1#4\"{HTTP.ExceptionRequest.var\"#exceptions#2\"{HTTP.ExceptionRequest.var\"#exceptions#1#3\"{typeof(HTTP.StreamRequest.streamlayer)}}}}}}}}}}}}}}}}, method::String, url::String, h::Nothing, b::Vector{UInt8}, q::Nothing; headers::Nothing, body::Vector{UInt8}, query::Nothing, kw::@Kwargs{})",
      "    @ HTTP C:\\Users\\ElAdagioDeJP\\.julia\\packages\\HTTP\\sJD5V\\src\\HTTP.jl:457",
      " [15] request(stack::Function, method::String, url::String, h::Nothing, b::Vector{UInt8}, q::Nothing)",
      "    @ HTTP C:\\Users\\ElAdagioDeJP\\.julia\\packages\\HTTP\\sJD5V\\src\\HTTP.jl:455",
      " [16] #request#20",
      "    @ C:\\Users\\ElAdagioDeJP\\.julia\\packages\\HTTP\\sJD5V\\src\\HTTP.jl:315 [inlined]",
      " [17] request (repeats 2 times)",
      "    @ C:\\Users\\ElAdagioDeJP\\.julia\\packages\\HTTP\\sJD5V\\src\\HTTP.jl:313 [inlined]",
      " [18] get(a::String)",
      "    @ HTTP C:\\Users\\ElAdagioDeJP\\.julia\\packages\\HTTP\\sJD5V\\src\\HTTP.jl:518",
      " [19] top-level scope",
      "    @ In[4]:6"
     ]
    }
   ],
   "source": [
    "using HTTP #Exporto las funciones\n",
    "using JSON\n",
    "using Sympy\n",
    "#Pido los datos a la api\n",
    "url = \"https://api.n2yo.com/rest/v1/satellite/tle/25544&apiKey=T58NBR-Q5NHQE-Y76PS5-59V1\"\n",
    "res = HTTP.get(url)\n",
    "json = JSON.parse(String(res.body))\n",
    "print(\"json\")"
   ]
  },
  {
   "cell_type": "code",
   "execution_count": null,
   "id": "d6b6dd19-a83e-4044-b834-317a26e9cb4b",
   "metadata": {},
   "outputs": [],
   "source": []
  }
 ],
 "metadata": {
  "kernelspec": {
   "display_name": "Julia 1.10.3",
   "language": "julia",
   "name": "julia-1.10"
  },
  "language_info": {
   "file_extension": ".jl",
   "mimetype": "application/julia",
   "name": "julia",
   "version": "1.10.3"
  }
 },
 "nbformat": 4,
 "nbformat_minor": 5
}
