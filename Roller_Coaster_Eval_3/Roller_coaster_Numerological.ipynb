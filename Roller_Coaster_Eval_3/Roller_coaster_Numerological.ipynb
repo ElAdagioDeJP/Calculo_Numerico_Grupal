{
 "cells": [
  {
   "cell_type": "code",
   "execution_count": null,
   "id": "25ad470a-b822-4687-beb7-9910dd2a0c19",
   "metadata": {},
   "outputs": [],
   "source": []
  },
  {
   "cell_type": "code",
   "execution_count": 17,
   "id": "e3c8b962-3ee5-478b-8555-4bdfb5e44b64",
   "metadata": {},
   "outputs": [
    {
     "name": "stdout",
     "output_type": "stream",
     "text": [
      "1 25544U 98067A   24174.83521159  .00018321  00000-0  33171-3 0  9995\n",
      "2 25544  51.6416 287.3111 0010908 356.5490 146.7384 15.49648437459426"
     ]
    },
    {
     "data": {
      "text/plain": [
       "2-element CSV.File:\n",
       " CSV.Row: (var\"0\" = 0.5, var\"1\" = 0.8, var\"2\" = 1.0, var\"3\" = 0.9, var\"4\" = 1.2, var\"5\" = 0.7)\n",
       " CSV.Row: (var\"0\" = 0.0, var\"1\" = 0.0, var\"2\" = 0.0, var\"3\" = 0.0, var\"4\" = 5.0, var\"5\" = 100.0)"
      ]
     },
     "execution_count": 17,
     "metadata": {},
     "output_type": "execute_result"
    }
   ],
   "source": [
    "using HTTP #Exporto las funciones\n",
    "using JSON\n",
    "using DataFrames\n",
    "using CSV\n",
    "\n",
    "#Pido los datos a la api\n",
    "url = \"https://api.n2yo.com/rest/v1/satellite/tle/25544&apiKey=T58NBR-Q5NHQE-Y76PS5-59V1\"\n",
    "res = HTTP.get(url)\n",
    "json = JSON.parse(String(res.body))\n",
    "puntos_satelites = json[\"tle\"]\n",
    "print(puntos_satelites)\n",
    "\n",
    "datos = CSV.File(\"points.csv\")"
   ]
  },
  {
   "cell_type": "code",
   "execution_count": null,
   "id": "02a51f89-9c95-437e-bd01-32c79f98033f",
   "metadata": {},
   "outputs": [],
   "source": []
  }
 ],
 "metadata": {
  "kernelspec": {
   "display_name": "Julia 1.10.3",
   "language": "julia",
   "name": "julia-1.10"
  },
  "language_info": {
   "file_extension": ".jl",
   "mimetype": "application/julia",
   "name": "julia",
   "version": "1.10.3"
  }
 },
 "nbformat": 4,
 "nbformat_minor": 5
}
