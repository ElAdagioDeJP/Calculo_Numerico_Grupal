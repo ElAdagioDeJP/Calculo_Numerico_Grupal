{
 "cells": [
  {
   "cell_type": "code",
   "execution_count": 5,
   "id": "ab9f9d40-34b1-418a-96b3-2454dafa995f",
   "metadata": {},
   "outputs": [
    {
     "ename": "Base.Meta.ParseError",
     "evalue": "ParseError:\n# Error @ c:\\Users\\ElAdagioDeJP\\Documents\\Github\\Proyectos_Calculo_Numerico_Grupal\\Evaluacion_2.py\\Graficacion_Meteorologica_Interpolacion.ipynb:10:14\nfor i in json\r\n    if i == 'temp_max_c'\r\n#            └────────┘ ── character literal contains multiple characters",
     "output_type": "error",
     "traceback": [
      "ParseError:\n",
      "# Error @ c:\\Users\\ElAdagioDeJP\\Documents\\Github\\Proyectos_Calculo_Numerico_Grupal\\Evaluacion_2.py\\Graficacion_Meteorologica_Interpolacion.ipynb:10:14\n",
      "for i in json\r\n",
      "    if i == 'temp_max_c'\r\n",
      "#            └────────┘ ── character literal contains multiple characters\n",
      "\n",
      "Stacktrace:\n",
      " [1] top-level scope\n",
      "   @ c:\\Users\\ElAdagioDeJP\\Documents\\Github\\Proyectos_Calculo_Numerico_Grupal\\Evaluacion_2.py\\Graficacion_Meteorologica_Interpolacion.ipynb:10"
     ]
    }
   ],
   "source": [
    "using HTTP\n",
    "using JSON\n",
    "\n",
    "url = \"http://api.weatherunlocked.com/api/forecast/10.16202,-68.00765?app_id=f8341b8f&app_key=380d876792d6ac1b32c5258c07c010a4\"\n",
    "res = HTTP.get(url)\n",
    "json = JSON.parse(String(res.body))\n",
    "\n",
    "Temperatura_max = []\n",
    "for i in json\n",
    "    if i == 'temp_max_c'\n",
    "    push!(Temperatura_max, i[\"temp_max_c\"])\n",
    "    end\n",
    "end\n",
    "\n",
    "println(Temperatura_max)"
   ]
  },
  {
   "cell_type": "code",
   "execution_count": 6,
   "id": "0edf3834-0741-40f5-ab48-4622f7350bdb",
   "metadata": {},
   "outputs": [],
   "source": []
  }
 ],
 "metadata": {
  "kernelspec": {
   "display_name": "Julia 1.10.3",
   "language": "julia",
   "name": "julia-1.10"
  },
  "language_info": {
   "file_extension": ".jl",
   "mimetype": "application/julia",
   "name": "julia",
   "version": "1.10.3"
  }
 },
 "nbformat": 4,
 "nbformat_minor": 5
}
