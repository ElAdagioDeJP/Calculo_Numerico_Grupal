{
 "cells": [
  {
   "cell_type": "markdown",
   "id": "f6300ae3-0cad-4056-bd3c-515eed28ee2f",
   "metadata": {},
   "source": [
    "# Graficacion Meteorologica Mediante Interpolaciones 🌡"
   ]
  },
  {
   "cell_type": "markdown",
   "id": "17974137-a8f3-4a34-a5b7-e6d0d7e9a582",
   "metadata": {},
   "source": [
    "<img src=Imagenes/App2.jpg width=300px>\n",
    "<hr>"
   ]
  },
  {
   "cell_type": "markdown",
   "id": "eb636d78-90f5-4f2f-8956-05544e3780d1",
   "metadata": {},
   "source": [
    "<h2>Tomamos los datos consumiendo una api del clima</h2>\n",
    "<h5>https://developer.weatherunlocked.com/documentation/localweather/forecast</h5>\n",
    "<h3>Elegimos la locacion de Turquia estambul</h3>\n",
    "<img src=Imagenes/MemeTurco.jpg width=300px>\n",
    "<hr>"
   ]
  },
  {
   "cell_type": "markdown",
   "id": "9a72e1b5-5845-4884-89ab-dad14ffc8aaa",
   "metadata": {},
   "source": [
    "## Consumo De Api para la Generacion de datos (1 Semana)"
   ]
  },
  {
   "cell_type": "code",
   "execution_count": 4,
   "id": "fb321b45-e870-4fa0-8bb0-8011bcb670c1",
   "metadata": {},
   "outputs": [
    {
     "name": "stdout",
     "output_type": "stream",
     "text": [
      "Any[20.65, 22.5, 22.35, 22.45, 23.7, 22.6, 20.2]"
     ]
    }
   ],
   "source": [
    "#Importamos las librerias necesarias\n",
    "using HTTP\n",
    "using JSON\n",
    "\n",
    "#Pido los datos desde la api\n",
    "url = \"http://api.weatherunlocked.com/api/forecast/41.01384,-28.94966?app_id=f8341b8f&app_key=380d876792d6ac1b32c5258c07c010a4\"\n",
    "res = HTTP.get(url)\n",
    "json = JSON.parse(String(res.body))\n",
    "\n",
    "Temperatura_max = []\n",
    "Temperatura_min = []\n",
    "temperatura = []\n",
    "x = json[\"Days\"]\n",
    "\n",
    "for i in x\n",
    "    push!(Temperatura_max, i[\"temp_max_c\"])\n",
    "    push!(Temperatura_min, i[\"temp_min_c\"])\n",
    "end\n",
    "\n",
    "for i in 1:1:length(Temperatura_max)\n",
    "    temp_max = Temperatura_max[i]\n",
    "    temp_min = Temperatura_min[i]\n",
    "    prom = temp_max + temp_min\n",
    "    push!(temperatura, round(prom/2 , digits=2))\n",
    "end\n",
    "print(temperatura)"
   ]
  },
  {
   "cell_type": "markdown",
   "id": "65120f4e-b207-496d-abc9-711d4ae2da09",
   "metadata": {},
   "source": [
    "## Datos Meteorologicos anuales de Estambul"
   ]
  },
  {
   "cell_type": "code",
   "execution_count": 4,
   "id": "ab9f9d40-34b1-418a-96b3-2454dafa995f",
   "metadata": {},
   "outputs": [
    {
     "name": "stdout",
     "output_type": "stream",
     "text": [
      "Datos del mes 1 obtenidos correctamente\n",
      "Datos del mes 2 obtenidos correctamente\n",
      "Datos del mes 3 obtenidos correctamente\n",
      "Datos del mes 4 obtenidos correctamente\n",
      "Datos del mes 5 obtenidos correctamente\n",
      "Datos del mes 6 obtenidos correctamente\n",
      "Datos del mes 7 obtenidos correctamente\n",
      "Datos del mes 8 obtenidos correctamente\n",
      "Datos del mes 9 obtenidos correctamente\n",
      "Datos del mes 10 obtenidos correctamente\n",
      "Datos del mes 11 obtenidos correctamente\n",
      "Datos del mes 12 obtenidos correctamente\n"
     ]
    }
   ],
   "source": [
    "api_key = \"790e4819ffc841c5b1810355241106\"\n",
    "location = \"Istanbul\"\n",
    "nombre_doc = location * \"_weather_data.json\"\n",
    "\n",
    "data_list = []\n",
    "\n",
    "for month in 1:12\n",
    "    start_date = \"2023-$(lpad(month, 2, '0'))-01\"\n",
    "    end_date = month != 12 ? \"2023-$(lpad(month, 2, '0'))-31\" : \"2023-12-31\"\n",
    "\n",
    "    url = \"http://api.worldweatheronline.com/premium/v1/past-weather.ashx?q=$(location)&tp=24&date=$(start_date)&enddate=$(end_date)&format=json&key=$(api_key)\"\n",
    "\n",
    "    response = HTTP.get(url)\n",
    "\n",
    "    if response.status == 200\n",
    "        data = JSON.parse(String(response.body))\n",
    "        push!(data_list, data)\n",
    "        println(\"Datos del mes $month obtenidos correctamente\")\n",
    "    else\n",
    "        println(\"Error al obtener datos del mes $month: $(response.status)\")\n",
    "    end\n",
    "end\n",
    "\n",
    "months = [\n",
    "    \"Enero\",\n",
    "    \"Febrero\",\n",
    "    \"Marzo\",\n",
    "    \"Abril\",\n",
    "    \"Mayo\",\n",
    "    \"Junio\",\n",
    "    \"Julio\",\n",
    "    \"Agosto\",\n",
    "    \"Septiembre\",\n",
    "    \"Octubre\",\n",
    "    \"Noviembre\",\n",
    "    \"Diciembre\",\n",
    "]\n",
    "\n",
    "max_temps = []\n",
    "min_temps = []\n",
    "avg_temps = []\n",
    "\n",
    "for month_data in data_list\n",
    "    month_max_temps = []\n",
    "    month_min_temps = []\n",
    "    month_avg_temps = []\n",
    "\n",
    "    for day in month_data[\"data\"][\"weather\"]\n",
    "        max_temp = day[\"maxtempC\"]\n",
    "        min_temp = day[\"mintempC\"]\n",
    "        avg_temp = day[\"avgtempC\"]\n",
    "\n",
    "        push!(month_max_temps, max_temp)\n",
    "        push!(month_min_temps, min_temp)\n",
    "        push!(month_avg_temps, avg_temp)\n",
    "    end\n",
    "\n",
    "    push!(max_temps, month_max_temps)\n",
    "    push!(min_temps, month_min_temps)\n",
    "    push!(avg_temps, month_avg_temps)\n",
    "end\n",
    "\n"
   ]
  },
  {
   "cell_type": "markdown",
   "id": "1d7049d3-2d03-4f90-abe1-c1a6c0559bcd",
   "metadata": {},
   "source": [
    "<hr>"
   ]
  },
  {
   "cell_type": "markdown",
   "id": "53806c74-ef5a-4623-8737-9f22cef71f06",
   "metadata": {},
   "source": [
    "## Interpolacion de Taylor"
   ]
  },
  {
   "cell_type": "code",
   "execution_count": null,
   "id": "25a89271-d920-4830-ae5e-6d7a50f4a7cc",
   "metadata": {},
   "outputs": [],
   "source": [
    "using SymPy\n",
    "using Plots\n",
    "\n",
    "\n",
    "\n",
    "\n"
   ]
  }
 ],
 "metadata": {
  "kernelspec": {
   "display_name": "Julia 1.10.3",
   "language": "julia",
   "name": "julia-1.10"
  },
  "language_info": {
   "file_extension": ".jl",
   "mimetype": "application/julia",
   "name": "julia",
   "version": "1.10.3"
  }
 },
 "nbformat": 4,
 "nbformat_minor": 5
}
