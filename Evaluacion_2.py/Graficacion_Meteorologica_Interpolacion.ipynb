{
 "cells": [
  {
   "cell_type": "markdown",
   "id": "f6300ae3-0cad-4056-bd3c-515eed28ee2f",
   "metadata": {},
   "source": [
    "# Graficacion Meteorologica Mediante Interpolaciones 🌡"
   ]
  },
  {
   "cell_type": "markdown",
   "id": "17974137-a8f3-4a34-a5b7-e6d0d7e9a582",
   "metadata": {},
   "source": [
    "<img src=Imagenes/App2.jpg width=300px>\n",
    "<h3>Intregrantes:</h3>\n",
    "<h4>Juan Vargas <br>\n",
    "Freddy Jaimes <br>\n",
    "Angel de Leon</h4>\n",
    "<hr>"
   ]
  },
  {
   "cell_type": "markdown",
   "id": "eb636d78-90f5-4f2f-8956-05544e3780d1",
   "metadata": {},
   "source": [
    "<h2>Tomamos los datos consumiendo una api del clima</h2>\n",
    "<h5>https://developer.weatherunlocked.com/documentation/localweather/forecast</h5>\n",
    "<h3>Elegimos la locacion de Turquia estambul</h3>\n",
    "<img src=Imagenes/MemeTurco.jpg width=300px>\n",
    "<hr>"
   ]
  },
  {
   "cell_type": "markdown",
   "id": "9a72e1b5-5845-4884-89ab-dad14ffc8aaa",
   "metadata": {},
   "source": [
    "## Consumo De Api para la Generacion de datos (1 Semana)"
   ]
  },
  {
   "cell_type": "code",
   "execution_count": 37,
   "id": "fb321b45-e870-4fa0-8bb0-8011bcb670c1",
   "metadata": {},
   "outputs": [
    {
     "name": "stdout",
     "output_type": "stream",
     "text": [
      "Any[20.65, 22.5, 22.35, 22.45, 23.7, 22.6, 20.2]"
     ]
    },
    {
     "data": {
      "text/plain": [
       "Vector{Any}\u001b[90m (alias for \u001b[39m\u001b[90mArray{Any, 1}\u001b[39m\u001b[90m)\u001b[39m"
      ]
     },
     "execution_count": 37,
     "metadata": {},
     "output_type": "execute_result"
    }
   ],
   "source": [
    "#Importamos las librerias necesarias\n",
    "using HTTP\n",
    "using JSON\n",
    "\n",
    "#Pido los datos desde la api\n",
    "url = \"http://api.weatherunlocked.com/api/forecast/41.01384,-28.94966?app_id=f8341b8f&app_key=380d876792d6ac1b32c5258c07c010a4\"\n",
    "res = HTTP.get(url)\n",
    "json = JSON.parse(String(res.body))\n",
    "\n",
    "Temperatura_max = []\n",
    "Temperatura_min = []\n",
    "temperatura = []\n",
    "x = json[\"Days\"]\n",
    "\n",
    "for i in x\n",
    "    push!(Temperatura_max, i[\"temp_max_c\"])\n",
    "    push!(Temperatura_min, i[\"temp_min_c\"])\n",
    "end\n",
    "\n",
    "for i in 1:1:length(Temperatura_max)\n",
    "    temp_max = Temperatura_max[i]\n",
    "    temp_min = Temperatura_min[i]\n",
    "    prom = temp_max + temp_min\n",
    "    push!(temperatura, round(prom/2 , digits=2))\n",
    "end\n",
    "print(temperatura)\n",
    "typeof(temperatura)"
   ]
  },
  {
   "cell_type": "markdown",
   "id": "65120f4e-b207-496d-abc9-711d4ae2da09",
   "metadata": {},
   "source": [
    "## Datos Meteorologicos anuales de Estambul"
   ]
  },
  {
   "cell_type": "code",
   "execution_count": null,
   "id": "ab9f9d40-34b1-418a-96b3-2454dafa995f",
   "metadata": {},
   "outputs": [],
   "source": [
    "api = \"790e4819ffc841c5b1810355241106\"\n",
    "loc = \"Istanbul\"\n",
    "doc = loc * \"_weather_data.json\"\n",
    "\n",
    "data = []\n",
    "\n",
    "for m in 1:12\n",
    "    s_date = \"2023-$(lpad(m, 2, '0'))-01\"\n",
    "    e_date = m != 12 ? \"2023-$(lpad(m, 2, '0'))-31\" : \"2023-12-31\"\n",
    "\n",
    "    url = \"http://api.worldweatheronline.com/premium/v1/past-weather.ashx?q=$(loc)&tp=24&date=$(s_date)&enddate=$(e_date)&format=json&key=$(api)\"\n",
    "\n",
    "    res = HTTP.get(url)\n",
    "\n",
    "    if res.status == 200\n",
    "        d = JSON.parse(String(res.body))\n",
    "        push!(data, d)\n",
    "        println(\"Datos del mes $m obtenidos correctamente\")\n",
    "    else\n",
    "        println(\"Error al obtener datos del mes $m: $(res.status)\")\n",
    "    end\n",
    "end\n",
    "\n",
    "meses = [\n",
    "    \"Enero\",\n",
    "    \"Febrero\",\n",
    "    \"Marzo\",\n",
    "    \"Abril\",\n",
    "    \"Mayo\",\n",
    "    \"Junio\",\n",
    "    \"Julio\",\n",
    "    \"Agosto\",\n",
    "    \"Septiembre\",\n",
    "    \"Octubre\",\n",
    "    \"Noviembre\",\n",
    "    \"Diciembre\",\n",
    "]\n",
    "\n",
    "max_t = []\n",
    "min_t = []\n",
    "avg_t = []\n",
    "\n",
    "for m_data in data\n",
    "    m_max_t = []\n",
    "    m_min_t = []\n",
    "    m_avg_t = []\n",
    "\n",
    "    for day in m_data[\"data\"][\"weather\"]\n",
    "        max_t = day[\"maxtempC\"]\n",
    "        min_t = day[\"mintempC\"]\n",
    "        avg_t = day[\"avgtempC\"]\n",
    "\n",
    "        push!(m_max_t, max_t)\n",
    "        push!(m_min_t, min_t)\n",
    "        push!(m_avg_t, avg_t)\n",
    "    end\n",
    "\n",
    "    push!(max_t, m_max_t)\n",
    "    push!(min_t, m_min_t)\n",
    "    push!(avg_t, m_avg_t)\n",
    "end\n",
    "\n"
   ]
  },
  {
   "cell_type": "markdown",
   "id": "1d7049d3-2d03-4f90-abe1-c1a6c0559bcd",
   "metadata": {},
   "source": [
    "<hr>"
   ]
  },
  {
   "cell_type": "markdown",
   "id": "53806c74-ef5a-4623-8737-9f22cef71f06",
   "metadata": {},
   "source": [
    "## Interpolacion de Taylor"
   ]
  },
  {
   "cell_type": "code",
   "execution_count": 35,
   "id": "25a89271-d920-4830-ae5e-6d7a50f4a7cc",
   "metadata": {},
   "outputs": [
    {
     "ename": "LoadError",
     "evalue": "PyError ($(Expr(:escape, :(ccall(#= C:\\Users\\ElAdagioDeJP\\.julia\\packages\\PyCall\\1gn3u\\src\\pyfncall.jl:43 =# @pysym(:PyObject_Call), PyPtr, (PyPtr, PyPtr, PyPtr), o, pyargsptr, kw))))) <class 'RecursionError'>\nRecursionError('maximum recursion depth exceeded while calling a Python object')\n  File \"C:\\Users\\ElAdagioDeJP\\.julia\\conda\\3\\x86_64\\lib\\site-packages\\sympy\\core\\symbol.py\", line 814, in symbols\n    result.append(symbols(name, cls=cls, **args))\n  File \"C:\\Users\\ElAdagioDeJP\\.julia\\conda\\3\\x86_64\\lib\\site-packages\\sympy\\core\\symbol.py\", line 814, in symbols\n    result.append(symbols(name, cls=cls, **args))\n  File \"C:\\Users\\ElAdagioDeJP\\.julia\\conda\\3\\x86_64\\lib\\site-packages\\sympy\\core\\symbol.py\", line 814, in symbols\n    result.append(symbols(name, cls=cls, **args))\n  [Previous line repeated 996 more times]\n  File \"C:\\Users\\ElAdagioDeJP\\.julia\\conda\\3\\x86_64\\lib\\site-packages\\sympy\\core\\symbol.py\", line 724, in symbols\n    if isinstance(names, str):\n",
     "output_type": "error",
     "traceback": [
      "PyError ($(Expr(:escape, :(ccall(#= C:\\Users\\ElAdagioDeJP\\.julia\\packages\\PyCall\\1gn3u\\src\\pyfncall.jl:43 =# @pysym(:PyObject_Call), PyPtr, (PyPtr, PyPtr, PyPtr), o, pyargsptr, kw))))) <class 'RecursionError'>\nRecursionError('maximum recursion depth exceeded while calling a Python object')\n  File \"C:\\Users\\ElAdagioDeJP\\.julia\\conda\\3\\x86_64\\lib\\site-packages\\sympy\\core\\symbol.py\", line 814, in symbols\n    result.append(symbols(name, cls=cls, **args))\n  File \"C:\\Users\\ElAdagioDeJP\\.julia\\conda\\3\\x86_64\\lib\\site-packages\\sympy\\core\\symbol.py\", line 814, in symbols\n    result.append(symbols(name, cls=cls, **args))\n  File \"C:\\Users\\ElAdagioDeJP\\.julia\\conda\\3\\x86_64\\lib\\site-packages\\sympy\\core\\symbol.py\", line 814, in symbols\n    result.append(symbols(name, cls=cls, **args))\n  [Previous line repeated 996 more times]\n  File \"C:\\Users\\ElAdagioDeJP\\.julia\\conda\\3\\x86_64\\lib\\site-packages\\sympy\\core\\symbol.py\", line 724, in symbols\n    if isinstance(names, str):\n",
      "",
      "Stacktrace:",
      "  [1] pyerr_check",
      "    @ C:\\Users\\ElAdagioDeJP\\.julia\\packages\\PyCall\\1gn3u\\src\\exception.jl:75 [inlined]",
      "  [2] pyerr_check",
      "    @ C:\\Users\\ElAdagioDeJP\\.julia\\packages\\PyCall\\1gn3u\\src\\exception.jl:79 [inlined]",
      "  [3] _handle_error(msg::String)",
      "    @ PyCall C:\\Users\\ElAdagioDeJP\\.julia\\packages\\PyCall\\1gn3u\\src\\exception.jl:96",
      "  [4] macro expansion",
      "    @ C:\\Users\\ElAdagioDeJP\\.julia\\packages\\PyCall\\1gn3u\\src\\exception.jl:110 [inlined]",
      "  [5] #107",
      "    @ C:\\Users\\ElAdagioDeJP\\.julia\\packages\\PyCall\\1gn3u\\src\\pyfncall.jl:43 [inlined]",
      "  [6] disable_sigint",
      "    @ .\\c.jl:473 [inlined]",
      "  [7] __pycall!",
      "    @ C:\\Users\\ElAdagioDeJP\\.julia\\packages\\PyCall\\1gn3u\\src\\pyfncall.jl:42 [inlined]",
      "  [8] _pycall!(ret::PyCall.PyObject, o::PyCall.PyObject, args::Tuple{Char}, nargs::Int64, kw::Ptr{Nothing})",
      "    @ PyCall C:\\Users\\ElAdagioDeJP\\.julia\\packages\\PyCall\\1gn3u\\src\\pyfncall.jl:29",
      "  [9] _pycall!",
      "    @ C:\\Users\\ElAdagioDeJP\\.julia\\packages\\PyCall\\1gn3u\\src\\pyfncall.jl:11 [inlined]",
      " [10] (::PyCall.PyObject)(args::Char)",
      "    @ PyCall C:\\Users\\ElAdagioDeJP\\.julia\\packages\\PyCall\\1gn3u\\src\\pyfncall.jl:86",
      " [11] symbols(args::Char; kwargs::@Kwargs{})",
      "    @ SymPy C:\\Users\\ElAdagioDeJP\\.julia\\packages\\SymPyCore\\tOpxk\\src\\SymPy\\constructors_sympy.jl:53",
      " [12] symbols",
      "    @ C:\\Users\\ElAdagioDeJP\\.julia\\packages\\SymPyCore\\tOpxk\\src\\SymPy\\constructors_sympy.jl:52 [inlined]",
      " [13] Taylor(temperatura::Vector{Any}, tiempo::UnitRange{Int64}, x0::Int64)",
      "    @ Main .\\In[35]:6",
      " [14] top-level scope",
      "    @ In[35]:28"
     ]
    }
   ],
   "source": [
    "using SymPy\n",
    "using Plots\n",
    "\n",
    "function Taylor(temperatura, tiempo, x0)\n",
    "\n",
    "    x = symbols('x')\n",
    "    c_temperatura = [temperatura]\n",
    "    \n",
    "    for i in 1:(length(temperatura)-1)\n",
    "        push!(c_temperatura, diff(c_temperatura[i]))\n",
    "    end\n",
    "    taylor = c_temperatura[1][1]\n",
    "    fact = 1\n",
    "    f_pol = 0\n",
    "    for i in 1:(length(temperatura)-1)\n",
    "        fact *= 1\n",
    "        pol = c_temperatura[i][i+1] / fact\n",
    "        for j in 1:(i-1)\n",
    "            pol *= (x - tiempo[j+1])\n",
    "        end\n",
    "        f_pol = f_pol + pol\n",
    "    end\n",
    "    result = subs(f_pol, x, x0)\n",
    "    return f_pol, result, x0\n",
    "end\n",
    "x = 1:length(temperatura)\n",
    "\n",
    "taylor , result , x0 = Taylor(temperatura, x, 3)\n",
    "# Graficamos la funcion de temperaturas por los dias y el polinomio de taylor\n",
    "plot(x,temperatura, label=\"Datos originales\", lw=3, marker=:circle)\n",
    "plot!(taylor, label=\"Interpolación de Taylor\", lw=3, color=:green)\n",
    "xlabel!(\"Días\")\n",
    "ylabel!(\"Temperatura (°C)\")\n",
    "title!(\"Interpolación de Taylor\")\n",
    "ylims!(0, 40)\n",
    "xlims!(1, 8)\n"
   ]
  },
  {
   "cell_type": "code",
   "execution_count": null,
   "id": "6575a4ea-5bfb-42c3-9573-3189daac1ee2",
   "metadata": {},
   "outputs": [],
   "source": []
  }
 ],
 "metadata": {
  "kernelspec": {
   "display_name": "Julia 1.10.3",
   "language": "julia",
   "name": "julia-1.10"
  },
  "language_info": {
   "file_extension": ".jl",
   "mimetype": "application/julia",
   "name": "julia",
   "version": "1.10.3"
  }
 },
 "nbformat": 4,
 "nbformat_minor": 5
}
