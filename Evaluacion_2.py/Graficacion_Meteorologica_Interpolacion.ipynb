{
 "cells": [
  {
   "cell_type": "code",
   "execution_count": 23,
   "id": "ab9f9d40-34b1-418a-96b3-2454dafa995f",
   "metadata": {},
   "outputs": [
    {
     "name": "stdout",
     "output_type": "stream",
     "text": [
      "Any[21.65, 26.5, 27.3, 27.05, 25.8, 26.1, 26.25]"
     ]
    }
   ],
   "source": [
    "using HTTP\n",
    "using JSON\n",
    "\n",
    "url = \"http://api.weatherunlocked.com/api/forecast/10.16202,-68.00765?app_id=f8341b8f&app_key=380d876792d6ac1b32c5258c07c010a4\"\n",
    "res = HTTP.get(url)\n",
    "json = JSON.parse(String(res.body))\n",
    "\n",
    "Temperatura_max = []\n",
    "Temperatura_min = []\n",
    "temperatura = []\n",
    "x = json[\"Days\"]\n",
    "\n",
    "for i in x\n",
    "    push!(Temperatura_max, i[\"temp_max_c\"])\n",
    "    push!(Temperatura_min, i[\"temp_min_c\"])\n",
    "end\n",
    "\n",
    "for i in 1:1:length(Temperatura_max)\n",
    "    a = Temperatura_max[i]\n",
    "    b = Temperatura_min[i]\n",
    "    c = a+b\n",
    "    push!(temperatura, round(c/2 , digits=2))\n",
    "end\n",
    "print(temperatura)\n"
   ]
  },
  {
   "cell_type": "code",
   "execution_count": null,
   "id": "0edf3834-0741-40f5-ab48-4622f7350bdb",
   "metadata": {},
   "outputs": [],
   "source": []
  }
 ],
 "metadata": {
  "kernelspec": {
   "display_name": "Julia 1.10.3",
   "language": "julia",
   "name": "julia-1.10"
  },
  "language_info": {
   "file_extension": ".jl",
   "mimetype": "application/julia",
   "name": "julia",
   "version": "1.10.3"
  }
 },
 "nbformat": 4,
 "nbformat_minor": 5
}
