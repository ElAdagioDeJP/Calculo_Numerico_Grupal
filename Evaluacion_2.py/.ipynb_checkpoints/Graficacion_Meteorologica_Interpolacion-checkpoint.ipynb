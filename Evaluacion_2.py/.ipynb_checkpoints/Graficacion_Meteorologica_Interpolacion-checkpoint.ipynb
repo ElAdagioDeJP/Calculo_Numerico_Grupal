{
 "cells": [
  {
   "cell_type": "markdown",
   "id": "f6300ae3-0cad-4056-bd3c-515eed28ee2f",
   "metadata": {},
   "source": [
    "# Graficacion Meteorologica Mediante Interpolaciones 🌡"
   ]
  },
  {
   "cell_type": "markdown",
   "id": "17974137-a8f3-4a34-a5b7-e6d0d7e9a582",
   "metadata": {},
   "source": [
    "<img src=Imagenes/App2.jpg width=300px>\n",
    "<h3>Intregrantes:</h3>\n",
    "<h4>Juan Vargas <br>\n",
    "Freddy Jaimes <br>\n",
    "Angel de Leon</h4>\n",
    "<hr>"
   ]
  },
  {
   "cell_type": "markdown",
   "id": "eb636d78-90f5-4f2f-8956-05544e3780d1",
   "metadata": {},
   "source": [
    "<h2>Tomamos los datos consumiendo una api del clima</h2>\n",
    "<h5>https://developer.weatherunlocked.com/documentation/localweather/forecast</h5>\n",
    "<h3>Elegimos la locacion de Turquia estambul</h3>\n",
    "<img src=Imagenes/MemeTurco.jpg width=300px>\n",
    "<hr>"
   ]
  },
  {
   "cell_type": "markdown",
   "id": "9a72e1b5-5845-4884-89ab-dad14ffc8aaa",
   "metadata": {},
   "source": [
    "## Consumo De Api para la Generacion de datos (1 Semana)"
   ]
  },
  {
   "cell_type": "code",
   "execution_count": null,
   "id": "fb321b45-e870-4fa0-8bb0-8011bcb670c1",
   "metadata": {},
   "outputs": [],
   "source": [
    "#Importamos las librerias necesarias\n",
    "using HTTP\n",
    "using JSON\n",
    "\n",
    "#Pido los datos desde la api\n",
    "url = \"http://api.weatherunlocked.com/api/forecast/41.01384,-28.94966?app_id=f8341b8f&app_key=380d876792d6ac1b32c5258c07c010a4\"\n",
    "res = HTTP.get(url)\n",
    "json = JSON.parse(String(res.body))\n",
    "\n",
    "Temperatura_max = []\n",
    "Temperatura_min = []\n",
    "temperatura = []\n",
    "x = json[\"Days\"]\n",
    "\n",
    "for i in x\n",
    "    push!(Temperatura_max, i[\"temp_max_c\"])\n",
    "    push!(Temperatura_min, i[\"temp_min_c\"])\n",
    "end\n",
    "\n",
    "for i in 1:1:length(Temperatura_max)\n",
    "    temp_max = Temperatura_max[i]\n",
    "    temp_min = Temperatura_min[i]\n",
    "    prom = temp_max + temp_min\n",
    "    push!(temperatura, round(prom/2 , digits=2))\n",
    "end\n",
    "print(temperatura)"
   ]
  },
  {
   "cell_type": "markdown",
   "id": "65120f4e-b207-496d-abc9-711d4ae2da09",
   "metadata": {},
   "source": [
    "## Datos Meteorologicos anuales de Estambul"
   ]
  },
  {
   "cell_type": "code",
   "execution_count": null,
   "id": "ab9f9d40-34b1-418a-96b3-2454dafa995f",
   "metadata": {},
   "outputs": [],
   "source": [
    "api = \"790e4819ffc841c5b1810355241106\"\n",
    "loc = \"Istanbul\"\n",
    "doc = loc * \"_weather_data.json\"\n",
    "\n",
    "data = []\n",
    "\n",
    "for m in 1:12\n",
    "    s_date = \"2023-$(lpad(m, 2, '0'))-01\"\n",
    "    e_date = m != 12 ? \"2023-$(lpad(m, 2, '0'))-31\" : \"2023-12-31\"\n",
    "\n",
    "    url = \"http://api.worldweatheronline.com/premium/v1/past-weather.ashx?q=$(loc)&tp=24&date=$(s_date)&enddate=$(e_date)&format=json&key=$(api)\"\n",
    "\n",
    "    res = HTTP.get(url)\n",
    "\n",
    "    if res.status == 200\n",
    "        d = JSON.parse(String(res.body))\n",
    "        push!(data, d)\n",
    "        println(\"Datos del mes $m obtenidos correctamente\")\n",
    "    else\n",
    "        println(\"Error al obtener datos del mes $m: $(res.status)\")\n",
    "    end\n",
    "end\n",
    "\n",
    "meses = [\n",
    "    \"Enero\",\n",
    "    \"Febrero\",\n",
    "    \"Marzo\",\n",
    "    \"Abril\",\n",
    "    \"Mayo\",\n",
    "    \"Junio\",\n",
    "    \"Julio\",\n",
    "    \"Agosto\",\n",
    "    \"Septiembre\",\n",
    "    \"Octubre\",\n",
    "    \"Noviembre\",\n",
    "    \"Diciembre\",\n",
    "]\n",
    "\n",
    "max_t = []\n",
    "min_t = []\n",
    "avg_t = []\n",
    "\n",
    "for m_data in data\n",
    "    m_max_t = []\n",
    "    m_min_t = []\n",
    "    m_avg_t = []\n",
    "\n",
    "    for day in m_data[\"data\"][\"weather\"]\n",
    "        max_t = day[\"maxtempC\"]\n",
    "        min_t = day[\"mintempC\"]\n",
    "        avg_t = day[\"avgtempC\"]\n",
    "\n",
    "        push!(m_max_t, max_t)\n",
    "        push!(m_min_t, min_t)\n",
    "        push!(m_avg_t, avg_t)\n",
    "    end\n",
    "\n",
    "    push!(max_t, m_max_t)\n",
    "    push!(min_t, m_min_t)\n",
    "    push!(avg_t, m_avg_t)\n",
    "end\n",
    "\n"
   ]
  },
  {
   "cell_type": "markdown",
   "id": "1d7049d3-2d03-4f90-abe1-c1a6c0559bcd",
   "metadata": {},
   "source": [
    "<hr>"
   ]
  },
  {
   "cell_type": "markdown",
   "id": "53806c74-ef5a-4623-8737-9f22cef71f06",
   "metadata": {},
   "source": [
    "## Interpolacion de Taylor"
   ]
  },
  {
   "cell_type": "code",
   "execution_count": 32,
   "id": "25a89271-d920-4830-ae5e-6d7a50f4a7cc",
   "metadata": {},
   "outputs": [
    {
     "ename": "LoadError",
     "evalue": "ParseError:\n\u001b[90m# Error @ \u001b[0;0m\u001b]8;;file://C:/Users/ElAdagioDeJP/Documents/Github/Proyectos_Calculo_Numerico_Grupal/Evaluacion_2.py/In[32]#20:9\u001b\\\u001b[90mIn[32]:20:9\u001b[0;0m\u001b]8;;\u001b\\\n            \n        \u001b[48;2;120;70;70m\u001b[0;0mend\n\u001b[90m#       └ ── \u001b[0;0m\u001b[91mExpected `)`\u001b[0;0m",
     "output_type": "error",
     "traceback": [
      "ParseError:\n\u001b[90m# Error @ \u001b[0;0m\u001b]8;;file://C:/Users/ElAdagioDeJP/Documents/Github/Proyectos_Calculo_Numerico_Grupal/Evaluacion_2.py/In[32]#20:9\u001b\\\u001b[90mIn[32]:20:9\u001b[0;0m\u001b]8;;\u001b\\\n            \n        \u001b[48;2;120;70;70m\u001b[0;0mend\n\u001b[90m#       └ ── \u001b[0;0m\u001b[91mExpected `)`\u001b[0;0m",
      "",
      "Stacktrace:",
      " [1] top-level scope",
      "   @ In[32]:20"
     ]
    }
   ],
   "source": [
    "using SymPy\n",
    "using Plots\n",
    "\n",
    "function Taylor(temperatura, tiempo, x0)\n",
    "\n",
    "    x = symbols('x')\n",
    "    c_temperatura = [temperatura]\n",
    "    \n",
    "    for i in 1:(length(temperatura)-1)\n",
    "        push!(c_temperatura, diff(c_temperatura[i]))\n",
    "    end\n",
    "    taylor = c_temperatura[1][1]\n",
    "    fact = 1\n",
    "    for i in 1:(length(temperatura)-1)\n",
    "        fact *= 1\n",
    "        pol = c_temperaturas[i][i+1] / fact\n",
    "        for j in 1:(i-1)\n",
    "            pol *= (x - tiempo[j+1]\n",
    "            \n",
    "        end\n",
    "        f_pol = f_pol + pol\n",
    "    end\n",
    "    result = subs(f_pol, x, x0)\n",
    "    return f_pol, result, x0\n",
    "end\n",
    "\n",
    "taylor , result , x0 = Taylor(temperatura, length(temperatura), 3)\n",
    "# Graficamos la funcion de temperaturas por los dias y el polinomio de taylor\n",
    "plot(length(temperatura),temperatura, label=\"Datos originales\", lw=3, marker=:circle)\n",
    "plot!(taylor, label=\"Interpolación de Taylor\", lw=3, color=:green)\n",
    "xlabel!(\"Días\")\n",
    "ylabel!(\"Temperatura (°C)\")\n",
    "title!(\"Interpolación de Taylor\")\n",
    "ylims!(0, 40)\n",
    "xlims!(1, 8)\n",
    "\n",
    "\n"
   ]
  },
  {
   "cell_type": "code",
   "execution_count": null,
   "id": "6575a4ea-5bfb-42c3-9573-3189daac1ee2",
   "metadata": {},
   "outputs": [],
   "source": []
  }
 ],
 "metadata": {
  "kernelspec": {
   "display_name": "Julia 1.10.3",
   "language": "julia",
   "name": "julia-1.10"
  },
  "language_info": {
   "file_extension": ".jl",
   "mimetype": "application/julia",
   "name": "julia",
   "version": "1.10.3"
  }
 },
 "nbformat": 4,
 "nbformat_minor": 5
}
