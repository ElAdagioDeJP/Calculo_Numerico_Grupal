{
 "cells": [
  {
   "cell_type": "code",
   "execution_count": 8,
   "id": "ab9f9d40-34b1-418a-96b3-2454dafa995f",
   "metadata": {},
   "outputs": [
    {
     "ename": "LoadError",
     "evalue": "ArgumentError: invalid index: 22.3 of type Float64",
     "output_type": "error",
     "traceback": [
      "ArgumentError: invalid index: 22.3 of type Float64",
      "",
      "Stacktrace:",
      " [1] to_index(i::Float64)",
      "   @ Base .\\indices.jl:300",
      " [2] to_index(A::Vector{Any}, i::Float64)",
      "   @ Base .\\indices.jl:277",
      " [3] _to_indices1(A::Vector{Any}, inds::Tuple{Base.OneTo{Int64}}, I1::Float64)",
      "   @ Base .\\indices.jl:359",
      " [4] to_indices",
      "   @ .\\indices.jl:354 [inlined]",
      " [5] to_indices",
      "   @ .\\indices.jl:345 [inlined]",
      " [6] getindex(A::Vector{Any}, I::Float64)",
      "   @ Base .\\abstractarray.jl:1291",
      " [7] top-level scope",
      "   @ .\\In[8]:19"
     ]
    }
   ],
   "source": [
    "using HTTP\n",
    "using JSON\n",
    "\n",
    "url = \"http://api.weatherunlocked.com/api/forecast/10.16202,-68.00765?app_id=f8341b8f&app_key=380d876792d6ac1b32c5258c07c010a4\"\n",
    "res = HTTP.get(url)\n",
    "json = JSON.parse(String(res.body))\n",
    "\n",
    "Temperatura_max = []\n",
    "Temperatura_min = []\n",
    "temperatura = []\n",
    "x = json[\"Days\"]\n",
    "\n",
    "for i in x\n",
    "    push!(Temperatura_max, i[\"temp_max_c\"])\n",
    "    push!(Temperatura_min, i[\"temp_min_c\"])\n",
    "end\n",
    "\n",
    "for i in Temperatura_max\n",
    "    a = Temperatura_max[i]\n",
    "    b = Temperatura_min[i]\n",
    "    push!(temperatura, a/b, type=float)\n",
    "end\n",
    "print(temperatura)"
   ]
  },
  {
   "cell_type": "code",
   "execution_count": null,
   "id": "0edf3834-0741-40f5-ab48-4622f7350bdb",
   "metadata": {},
   "outputs": [],
   "source": []
  }
 ],
 "metadata": {
  "kernelspec": {
   "display_name": "Julia 1.10.3",
   "language": "julia",
   "name": "julia-1.10"
  },
  "language_info": {
   "file_extension": ".jl",
   "mimetype": "application/julia",
   "name": "julia",
   "version": "1.10.3"
  }
 },
 "nbformat": 4,
 "nbformat_minor": 5
}
