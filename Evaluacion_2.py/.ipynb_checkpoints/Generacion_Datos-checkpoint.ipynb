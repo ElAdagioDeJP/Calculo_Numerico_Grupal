{
 "cells": [
  {
   "cell_type": "code",
   "execution_count": 1,
   "id": "ab9f9d40-34b1-418a-96b3-2454dafa995f",
   "metadata": {},
   "outputs": [
    {
     "ename": "LoadError",
     "evalue": "HTTP.Exceptions.StatusError(401, \"GET\", \"/data/3.0/onecall?lat=10.16202&lon=-68.00765&appid=76eed2a05a12cc4489a4131842bb303c\", HTTP.Messages.Response:\n\"\"\"\nHTTP/1.1 401 Unauthorized\r\nServer: openresty\r\nDate: Sun, 09 Jun 2024 16:59:47 GMT\r\nContent-Type: application/json; charset=utf-8\r\nContent-Length: 338\r\nConnection: keep-alive\r\nX-Cache-Key: /data/3.0/onecall?lat=10.16&lon=-68.01\r\nAccess-Control-Allow-Origin: *\r\nAccess-Control-Allow-Credentials: true\r\nAccess-Control-Allow-Methods: GET, POST\r\n\r\n{\"cod\":401, \"message\": \"Please note that using One Call 3.0 requires a separate subscription to the One Call by Call plan. Learn more here https://openweathermap.org/price. If you have a valid subscription to the One Call by Call plan, but still receive this error, then please see https://openweathermap.org/faq#error401 for more info.\"}\"\"\")",
     "output_type": "error",
     "traceback": [
      "HTTP.Exceptions.StatusError(401, \"GET\", \"/data/3.0/onecall?lat=10.16202&lon=-68.00765&appid=76eed2a05a12cc4489a4131842bb303c\", HTTP.Messages.Response:\n\"\"\"\nHTTP/1.1 401 Unauthorized\r\nServer: openresty\r\nDate: Sun, 09 Jun 2024 16:59:47 GMT\r\nContent-Type: application/json; charset=utf-8\r\nContent-Length: 338\r\nConnection: keep-alive\r\nX-Cache-Key: /data/3.0/onecall?lat=10.16&lon=-68.01\r\nAccess-Control-Allow-Origin: *\r\nAccess-Control-Allow-Credentials: true\r\nAccess-Control-Allow-Methods: GET, POST\r\n\r\n{\"cod\":401, \"message\": \"Please note that using One Call 3.0 requires a separate subscription to the One Call by Call plan. Learn more here https://openweathermap.org/price. If you have a valid subscription to the One Call by Call plan, but still receive this error, then please see https://openweathermap.org/faq#error401 for more info.\"}\"\"\")",
      "",
      "Stacktrace:",
      "  [1] (::HTTP.ConnectionRequest.var\"#connections#4\"{HTTP.ConnectionRequest.var\"#connections#1#5\"{HTTP.TimeoutRequest.var\"#timeouts#3\"{HTTP.TimeoutRequest.var\"#timeouts#1#4\"{HTTP.ExceptionRequest.var\"#exceptions#2\"{HTTP.ExceptionRequest.var\"#exceptions#1#3\"{typeof(HTTP.StreamRequest.streamlayer)}}}}}})(req::HTTP.Messages.Request; proxy::Nothing, socket_type::Type, socket_type_tls::Nothing, readtimeout::Int64, connect_timeout::Int64, logerrors::Bool, logtag::Nothing, closeimmediately::Bool, kw::@Kwargs{iofunction::Nothing, decompress::Nothing, verbose::Int64})",
      "    @ HTTP.ConnectionRequest C:\\Users\\ElAdagioDeJP\\.julia\\packages\\HTTP\\sJD5V\\src\\clientlayers\\ConnectionRequest.jl:144",
      "  [2] connections",
      "    @ C:\\Users\\ElAdagioDeJP\\.julia\\packages\\HTTP\\sJD5V\\src\\clientlayers\\ConnectionRequest.jl:60 [inlined]",
      "  [3] (::Base.var\"#96#98\"{Base.var\"#96#97#99\"{ExponentialBackOff, HTTP.RetryRequest.var\"#2#5\"{Int64, typeof(HTTP.RetryRequest.FALSE), HTTP.Messages.Request, Base.RefValue{Int64}}, HTTP.ConnectionRequest.var\"#connections#4\"{HTTP.ConnectionRequest.var\"#connections#1#5\"{HTTP.TimeoutRequest.var\"#timeouts#3\"{HTTP.TimeoutRequest.var\"#timeouts#1#4\"{HTTP.ExceptionRequest.var\"#exceptions#2\"{HTTP.ExceptionRequest.var\"#exceptions#1#3\"{typeof(HTTP.StreamRequest.streamlayer)}}}}}}}})(args::HTTP.Messages.Request; kwargs::@Kwargs{iofunction::Nothing, decompress::Nothing, verbose::Int64})",
      "    @ Base .\\error.jl:296",
      "  [4] (::HTTP.RetryRequest.var\"#manageretries#3\"{HTTP.RetryRequest.var\"#manageretries#1#4\"{HTTP.ConnectionRequest.var\"#connections#4\"{HTTP.ConnectionRequest.var\"#connections#1#5\"{HTTP.TimeoutRequest.var\"#timeouts#3\"{HTTP.TimeoutRequest.var\"#timeouts#1#4\"{HTTP.ExceptionRequest.var\"#exceptions#2\"{HTTP.ExceptionRequest.var\"#exceptions#1#3\"{typeof(HTTP.StreamRequest.streamlayer)}}}}}}}})(req::HTTP.Messages.Request; retry::Bool, retries::Int64, retry_delays::ExponentialBackOff, retry_check::Function, retry_non_idempotent::Bool, kw::@Kwargs{iofunction::Nothing, decompress::Nothing, verbose::Int64})",
      "    @ HTTP.RetryRequest C:\\Users\\ElAdagioDeJP\\.julia\\packages\\HTTP\\sJD5V\\src\\clientlayers\\RetryRequest.jl:75",
      "  [5] manageretries",
      "    @ C:\\Users\\ElAdagioDeJP\\.julia\\packages\\HTTP\\sJD5V\\src\\clientlayers\\RetryRequest.jl:30 [inlined]",
      "  [6] (::HTTP.CookieRequest.var\"#managecookies#4\"{HTTP.CookieRequest.var\"#managecookies#1#5\"{HTTP.RetryRequest.var\"#manageretries#3\"{HTTP.RetryRequest.var\"#manageretries#1#4\"{HTTP.ConnectionRequest.var\"#connections#4\"{HTTP.ConnectionRequest.var\"#connections#1#5\"{HTTP.TimeoutRequest.var\"#timeouts#3\"{HTTP.TimeoutRequest.var\"#timeouts#1#4\"{HTTP.ExceptionRequest.var\"#exceptions#2\"{HTTP.ExceptionRequest.var\"#exceptions#1#3\"{typeof(HTTP.StreamRequest.streamlayer)}}}}}}}}}})(req::HTTP.Messages.Request; cookies::Bool, cookiejar::HTTP.Cookies.CookieJar, kw::@Kwargs{iofunction::Nothing, decompress::Nothing, verbose::Int64})",
      "    @ HTTP.CookieRequest C:\\Users\\ElAdagioDeJP\\.julia\\packages\\HTTP\\sJD5V\\src\\clientlayers\\CookieRequest.jl:42",
      "  [7] managecookies",
      "    @ C:\\Users\\ElAdagioDeJP\\.julia\\packages\\HTTP\\sJD5V\\src\\clientlayers\\CookieRequest.jl:19 [inlined]",
      "  [8] (::HTTP.HeadersRequest.var\"#defaultheaders#2\"{HTTP.HeadersRequest.var\"#defaultheaders#1#3\"{HTTP.CookieRequest.var\"#managecookies#4\"{HTTP.CookieRequest.var\"#managecookies#1#5\"{HTTP.RetryRequest.var\"#manageretries#3\"{HTTP.RetryRequest.var\"#manageretries#1#4\"{HTTP.ConnectionRequest.var\"#connections#4\"{HTTP.ConnectionRequest.var\"#connections#1#5\"{HTTP.TimeoutRequest.var\"#timeouts#3\"{HTTP.TimeoutRequest.var\"#timeouts#1#4\"{HTTP.ExceptionRequest.var\"#exceptions#2\"{HTTP.ExceptionRequest.var\"#exceptions#1#3\"{typeof(HTTP.StreamRequest.streamlayer)}}}}}}}}}}}})(req::HTTP.Messages.Request; iofunction::Nothing, decompress::Nothing, basicauth::Bool, detect_content_type::Bool, canonicalize_headers::Bool, kw::@Kwargs{verbose::Int64})",
      "    @ HTTP.HeadersRequest C:\\Users\\ElAdagioDeJP\\.julia\\packages\\HTTP\\sJD5V\\src\\clientlayers\\HeadersRequest.jl:71",
      "  [9] defaultheaders",
      "    @ C:\\Users\\ElAdagioDeJP\\.julia\\packages\\HTTP\\sJD5V\\src\\clientlayers\\HeadersRequest.jl:14 [inlined]",
      " [10] (::HTTP.RedirectRequest.var\"#redirects#3\"{HTTP.RedirectRequest.var\"#redirects#1#4\"{HTTP.HeadersRequest.var\"#defaultheaders#2\"{HTTP.HeadersRequest.var\"#defaultheaders#1#3\"{HTTP.CookieRequest.var\"#managecookies#4\"{HTTP.CookieRequest.var\"#managecookies#1#5\"{HTTP.RetryRequest.var\"#manageretries#3\"{HTTP.RetryRequest.var\"#manageretries#1#4\"{HTTP.ConnectionRequest.var\"#connections#4\"{HTTP.ConnectionRequest.var\"#connections#1#5\"{HTTP.TimeoutRequest.var\"#timeouts#3\"{HTTP.TimeoutRequest.var\"#timeouts#1#4\"{HTTP.ExceptionRequest.var\"#exceptions#2\"{HTTP.ExceptionRequest.var\"#exceptions#1#3\"{typeof(HTTP.StreamRequest.streamlayer)}}}}}}}}}}}}}})(req::HTTP.Messages.Request; redirect::Bool, redirect_limit::Int64, redirect_method::Nothing, forwardheaders::Bool, response_stream::Nothing, kw::@Kwargs{verbose::Int64})",
      "    @ HTTP.RedirectRequest C:\\Users\\ElAdagioDeJP\\.julia\\packages\\HTTP\\sJD5V\\src\\clientlayers\\RedirectRequest.jl:25",
      " [11] redirects",
      "    @ C:\\Users\\ElAdagioDeJP\\.julia\\packages\\HTTP\\sJD5V\\src\\clientlayers\\RedirectRequest.jl:14 [inlined]",
      " [12] (::HTTP.MessageRequest.var\"#makerequest#3\"{HTTP.MessageRequest.var\"#makerequest#1#4\"{HTTP.RedirectRequest.var\"#redirects#3\"{HTTP.RedirectRequest.var\"#redirects#1#4\"{HTTP.HeadersRequest.var\"#defaultheaders#2\"{HTTP.HeadersRequest.var\"#defaultheaders#1#3\"{HTTP.CookieRequest.var\"#managecookies#4\"{HTTP.CookieRequest.var\"#managecookies#1#5\"{HTTP.RetryRequest.var\"#manageretries#3\"{HTTP.RetryRequest.var\"#manageretries#1#4\"{HTTP.ConnectionRequest.var\"#connections#4\"{HTTP.ConnectionRequest.var\"#connections#1#5\"{HTTP.TimeoutRequest.var\"#timeouts#3\"{HTTP.TimeoutRequest.var\"#timeouts#1#4\"{HTTP.ExceptionRequest.var\"#exceptions#2\"{HTTP.ExceptionRequest.var\"#exceptions#1#3\"{typeof(HTTP.StreamRequest.streamlayer)}}}}}}}}}}}}}}}})(method::String, url::URIs.URI, headers::Nothing, body::Vector{UInt8}; copyheaders::Bool, response_stream::Nothing, http_version::HTTP.Strings.HTTPVersion, verbose::Int64, kw::@Kwargs{})",
      "    @ HTTP.MessageRequest C:\\Users\\ElAdagioDeJP\\.julia\\packages\\HTTP\\sJD5V\\src\\clientlayers\\MessageRequest.jl:35",
      " [13] makerequest",
      "    @ C:\\Users\\ElAdagioDeJP\\.julia\\packages\\HTTP\\sJD5V\\src\\clientlayers\\MessageRequest.jl:24 [inlined]",
      " [14] request(stack::HTTP.MessageRequest.var\"#makerequest#3\"{HTTP.MessageRequest.var\"#makerequest#1#4\"{HTTP.RedirectRequest.var\"#redirects#3\"{HTTP.RedirectRequest.var\"#redirects#1#4\"{HTTP.HeadersRequest.var\"#defaultheaders#2\"{HTTP.HeadersRequest.var\"#defaultheaders#1#3\"{HTTP.CookieRequest.var\"#managecookies#4\"{HTTP.CookieRequest.var\"#managecookies#1#5\"{HTTP.RetryRequest.var\"#manageretries#3\"{HTTP.RetryRequest.var\"#manageretries#1#4\"{HTTP.ConnectionRequest.var\"#connections#4\"{HTTP.ConnectionRequest.var\"#connections#1#5\"{HTTP.TimeoutRequest.var\"#timeouts#3\"{HTTP.TimeoutRequest.var\"#timeouts#1#4\"{HTTP.ExceptionRequest.var\"#exceptions#2\"{HTTP.ExceptionRequest.var\"#exceptions#1#3\"{typeof(HTTP.StreamRequest.streamlayer)}}}}}}}}}}}}}}}}, method::String, url::String, h::Nothing, b::Vector{UInt8}, q::Nothing; headers::Nothing, body::Vector{UInt8}, query::Nothing, kw::@Kwargs{})",
      "    @ HTTP C:\\Users\\ElAdagioDeJP\\.julia\\packages\\HTTP\\sJD5V\\src\\HTTP.jl:457",
      " [15] request(stack::Function, method::String, url::String, h::Nothing, b::Vector{UInt8}, q::Nothing)",
      "    @ HTTP C:\\Users\\ElAdagioDeJP\\.julia\\packages\\HTTP\\sJD5V\\src\\HTTP.jl:455",
      " [16] #request#20",
      "    @ C:\\Users\\ElAdagioDeJP\\.julia\\packages\\HTTP\\sJD5V\\src\\HTTP.jl:315 [inlined]",
      " [17] request (repeats 2 times)",
      "    @ C:\\Users\\ElAdagioDeJP\\.julia\\packages\\HTTP\\sJD5V\\src\\HTTP.jl:313 [inlined]",
      " [18] get(a::String)",
      "    @ HTTP C:\\Users\\ElAdagioDeJP\\.julia\\packages\\HTTP\\sJD5V\\src\\HTTP.jl:518",
      " [19] top-level scope",
      "    @ In[1]:6"
     ]
    }
   ],
   "source": [
    "using HTTP\n",
    "using JSON\n",
    "\n",
    "url = \"https://api.openweathermap.org/data/3.0/onecall?lat=10.16202&lon=-68.00765&appid=76eed2a05a12cc4489a4131842bb303c\"\n",
    "\n",
    "res = HTTP.get(url)\n",
    "json = JSON.parse(String(res.body))"
   ]
  },
  {
   "cell_type": "code",
   "execution_count": null,
   "id": "0edf3834-0741-40f5-ab48-4622f7350bdb",
   "metadata": {},
   "outputs": [],
   "source": []
  }
 ],
 "metadata": {
  "kernelspec": {
   "display_name": "Julia 1.10.3",
   "language": "julia",
   "name": "julia-1.10"
  },
  "language_info": {
   "file_extension": ".jl",
   "mimetype": "application/julia",
   "name": "julia",
   "version": "1.10.3"
  }
 },
 "nbformat": 4,
 "nbformat_minor": 5
}
