{
 "cells": [
  {
   "cell_type": "code",
   "execution_count": 4,
   "id": "ab9f9d40-34b1-418a-96b3-2454dafa995f",
   "metadata": {},
   "outputs": [
    {
     "data": {
      "text/plain": [
       "Dict{String, Any} with 1 entry:\n",
       "  \"Days\" => Any[Dict{String, Any}(\"rain_total_in\"=>0.0, \"temp_min_c\"=>21.2, \"mo…"
      ]
     },
     "execution_count": 4,
     "metadata": {},
     "output_type": "execute_result"
    }
   ],
   "source": [
    "using HTTP\n",
    "using JSON\n",
    "\n",
    "url = \"http://api.weatherunlocked.com/api/forecast/10.16202,-68.00765?app_id=f8341b8f&app_key=380d876792d6ac1b32c5258c07c010a4\"\n",
    "\n",
    "res = HTTP.get(url)\n",
    "json = JSON.parse(String(res.body))"
   ]
  },
  {
   "cell_type": "code",
   "execution_count": null,
   "id": "0edf3834-0741-40f5-ab48-4622f7350bdb",
   "metadata": {},
   "outputs": [],
   "source": []
  }
 ],
 "metadata": {
  "kernelspec": {
   "display_name": "Julia 1.10.3",
   "language": "julia",
   "name": "julia-1.10"
  },
  "language_info": {
   "file_extension": ".jl",
   "mimetype": "application/julia",
   "name": "julia",
   "version": "1.10.3"
  }
 },
 "nbformat": 4,
 "nbformat_minor": 5
}
