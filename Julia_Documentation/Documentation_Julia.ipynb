{
 "cells": [
  {
   "cell_type": "markdown",
   "id": "e7e0e165-3846-4e30-9a57-875875b471b2",
   "metadata": {},
   "source": [
    "# Primeros pasos en Julia "
   ]
  },
  {
   "cell_type": "code",
   "execution_count": null,
   "id": "b7554826-371c-4496-901c-d8960b435061",
   "metadata": {},
   "outputs": [],
   "source": []
  }
 ],
 "metadata": {
  "kernelspec": {
   "display_name": "Julia 1.10.3",
   "language": "julia",
   "name": "julia-1.10"
  },
  "language_info": {
   "file_extension": ".jl",
   "mimetype": "application/julia",
   "name": "julia",
   "version": "1.10.3"
  }
 },
 "nbformat": 4,
 "nbformat_minor": 5
}
