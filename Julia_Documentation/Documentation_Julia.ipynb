{
 "cells": [
  {
   "cell_type": "markdown",
   "id": "ced01506-0b5c-4752-aed1-84af746efd27",
   "metadata": {},
   "source": [
    "<h2>Universidad Jose Antonio Paez</h2>\n",
    "<h4>Intregrantes:</h4>\n",
    "<h4>Juan Vargas<br>\n",
    "Freddy Jaimes</h4>\n",
    "\n",
    "<h6>Number calculation project that deals with the creation of documentation in Jupyter <br> notebook about Julia in order to familiarize ourselves with the language.</h6>\n",
    "<img src=Imagenes/giga-gigacat.gif width=100px>"
   ]
  },
  {
   "cell_type": "markdown",
   "id": "f86d4373-cfaf-40f4-8d0d-774ce0390fed",
   "metadata": {},
   "source": [
    "<hr>"
   ]
  },
  {
   "cell_type": "markdown",
   "id": "e7e0e165-3846-4e30-9a57-875875b471b2",
   "metadata": {},
   "source": [
    "# <b> ¿Que es Julia? <b>"
   ]
  },
  {
   "cell_type": "markdown",
   "id": "15516c88-28b6-47ed-b377-d79b5fe39c05",
   "metadata": {},
   "source": [
    "<h4>Julia es un lenguaje de programación homoicónico (primitivo) , ​ multiplataforma y multiparadigma de tipado dinámico de alto nivel y alto desempeño para la computación genérica, técnica y científica</h4>\n",
    "<h4>Esto nos dice que julia es como cualquier lenguaje de programacion, con la peculearidad que se centra en el analisis y gestion de datos, su mayor competidor es R. Siendo estos tus primeros en Julia vamos a hacer algo muy sencillo <b>nuestro primer hola mundo</b></h4>"
   ]
  },
  {
   "cell_type": "code",
   "execution_count": 9,
   "id": "73454832-cfc5-47be-aad9-c23ce29af8ab",
   "metadata": {},
   "outputs": [
    {
     "name": "stdout",
     "output_type": "stream",
     "text": [
      "Hello World\n"
     ]
    }
   ],
   "source": [
    "println(\"Hello World\") #Hola Mundo, esto es la iniciazion de tu carrera como programador en Julia (no funcionan las comillas simples)"
   ]
  },
  {
   "cell_type": "code",
   "execution_count": 10,
   "id": "7f804110-6471-4c5b-8c4f-c23fcdc853be",
   "metadata": {},
   "outputs": [],
   "source": [
    "#Ahora tu imprime algo bonito, para correr el programa es shift+enter:"
   ]
  },
  {
   "cell_type": "markdown",
   "id": "ae4edf0e-6c58-44ee-9e3b-1e3a9c89eef1",
   "metadata": {},
   "source": [
    "<h2>Variables</h2>\n",
    "<h4>Una variable está formada por un espacio de memoria y el nombre que le asignamos que está asociado a dicho espacio. Ese espacio contiene una cantidad de información conocida o desconocida, es decir un valor.</h4>\n",
    "<h4>Imaginate una caja, bueno esa caja es la memoria del computador, y el dato es lo que metes dentro de dicha caja</h4>"
   ]
  },
  {
   "cell_type": "markdown",
   "id": "9b9d1dea-4354-4d00-9536-cc7743351943",
   "metadata": {},
   "source": [
    "<img src=\"Imagenes/variables-en-programacion.png\" width=400px>"
   ]
  },
  {
   "cell_type": "markdown",
   "id": "6e9b8d96-ba3d-42a4-a5b7-1c1307e16006",
   "metadata": {},
   "source": [
    "<h3>En Julia las variables se declaran: nombre_de_variable = valor</h3>"
   ]
  },
  {
   "cell_type": "markdown",
   "id": "ddf9944b-116b-4d5b-a976-5a984a572046",
   "metadata": {},
   "source": [
    "<h4>El valor es asociado a un dato</h4>"
   ]
  },
  {
   "cell_type": "markdown",
   "id": "1f7b6742-d650-4dff-a0a1-ae0f4148365b",
   "metadata": {},
   "source": [
    "<h4>Reglas para la creacion de variables</h4>\n",
    "\n",
    "<h5>\n",
    "    #Tienen que tener un nombre significativo <br>\n",
    "    #NO puedes utilizar palabras reservadas <br>\n",
    "    #NO empezar con numeros\n",
    "</h5>"
   ]
  },
  {
   "cell_type": "code",
   "execution_count": 11,
   "id": "734a02b4-a2b7-426f-9434-9346859e2161",
   "metadata": {},
   "outputs": [
    {
     "data": {
      "text/plain": [
       "\"Hola\""
      ]
     },
     "execution_count": 11,
     "metadata": {},
     "output_type": "execute_result"
    }
   ],
   "source": [
    "saludar = \"Hola\""
   ]
  },
  {
   "cell_type": "code",
   "execution_count": 12,
   "id": "fb0f7629-c06c-41c7-8ea4-4d9f0f99b8ec",
   "metadata": {},
   "outputs": [
    {
     "data": {
      "text/plain": [
       "0"
      ]
     },
     "execution_count": 12,
     "metadata": {},
     "output_type": "execute_result"
    }
   ],
   "source": [
    "cont = 0"
   ]
  },
  {
   "cell_type": "code",
   "execution_count": 14,
   "id": "121a8b45-f379-4cf0-b2a4-35de329f549d",
   "metadata": {},
   "outputs": [
    {
     "data": {
      "text/plain": [
       "true"
      ]
     },
     "execution_count": 14,
     "metadata": {},
     "output_type": "execute_result"
    }
   ],
   "source": [
    "declaracion = true"
   ]
  },
  {
   "cell_type": "markdown",
   "id": "6ea431da-ba2a-4507-949f-4d917aebfbdf",
   "metadata": {},
   "source": [
    "<h2>Operadores</h2>\n",
    "<h4>En Julia como en cualquier lenguaje de programacion se utilizan operadores es un signo o símbolo que especifica el tipo de cálculo que se realiza en una expresión. Hay operadores matemáticos, de comparación, lógicos y de referencia.</h4>"
   ]
  },
  {
   "cell_type": "markdown",
   "id": "e302ef5f-535c-442d-8833-b15833f2119a",
   "metadata": {},
   "source": [
    "<h3>Operadores Aritmeticos: </h3>"
   ]
  },
  {
   "cell_type": "markdown",
   "id": "c9510b18-bffc-47b4-95b1-77bcbfd6840e",
   "metadata": {},
   "source": [
    "<h4>Los operadores aritméticos son aquellos que se utilizan para realizar operaciones matemáticas básicas en programación</h4>"
   ]
  },
  {
   "cell_type": "markdown",
   "id": "83e7c05f-37eb-4313-8ec7-d08818b0e741",
   "metadata": {},
   "source": [
    "<img src=Imagenes/Operadores_Aritmeticos.png width=450px>"
   ]
  },
  {
   "cell_type": "code",
   "execution_count": 15,
   "id": "240e8193-0fd9-4fba-b003-f7febe9aeeee",
   "metadata": {},
   "outputs": [
    {
     "data": {
      "text/plain": [
       "-1"
      ]
     },
     "execution_count": 15,
     "metadata": {},
     "output_type": "execute_result"
    }
   ],
   "source": [
    "-1"
   ]
  },
  {
   "cell_type": "code",
   "execution_count": 20,
   "id": "9d64ae86-0823-4946-972b-d2ecd79e5924",
   "metadata": {},
   "outputs": [
    {
     "data": {
      "text/plain": [
       "5"
      ]
     },
     "execution_count": 20,
     "metadata": {},
     "output_type": "execute_result"
    }
   ],
   "source": [
    "2 + 3"
   ]
  },
  {
   "cell_type": "code",
   "execution_count": 22,
   "id": "83a390a9-0150-446e-aa37-237486ccf607",
   "metadata": {},
   "outputs": [
    {
     "data": {
      "text/plain": [
       "2"
      ]
     },
     "execution_count": 22,
     "metadata": {},
     "output_type": "execute_result"
    }
   ],
   "source": [
    "4 - 2"
   ]
  },
  {
   "cell_type": "code",
   "execution_count": 21,
   "id": "4b78012b-5edd-4b57-a7ad-0b088d2817cb",
   "metadata": {},
   "outputs": [
    {
     "name": "stdout",
     "output_type": "stream",
     "text": [
      "5"
     ]
    }
   ],
   "source": [
    "a = 2\n",
    "b = 3\n",
    "print(a + b)"
   ]
  },
  {
   "cell_type": "code",
   "execution_count": null,
   "id": "5d6f1d2d-70d0-4259-a6c5-d1462acb28b0",
   "metadata": {},
   "outputs": [],
   "source": [
    "#Prueba a hacer una operacion: "
   ]
  },
  {
   "cell_type": "markdown",
   "id": "74587ddd-d5de-489f-964b-4cc17141f2e1",
   "metadata": {},
   "source": [
    "<h3>Operadores Logicos</h3>"
   ]
  },
  {
   "cell_type": "markdown",
   "id": "bb688334-7bb7-4b59-97a7-167d2195def8",
   "metadata": {},
   "source": [
    "<h4>Los operadores lógicos se usan para combinar dos valores Booleanos y devolver un resultado verdadero, falso o nulo.</h4>"
   ]
  },
  {
   "cell_type": "markdown",
   "id": "24b89a3c-13a2-4021-84c4-83c580099bff",
   "metadata": {},
   "source": [
    "<img src=Imagenes/Operadores_Logicos.png width=275xp>"
   ]
  },
  {
   "cell_type": "code",
   "execution_count": 26,
   "id": "ec810abc-68c8-4789-8a69-d7a23caf7e19",
   "metadata": {},
   "outputs": [
    {
     "data": {
      "text/plain": [
       "false"
      ]
     },
     "execution_count": 26,
     "metadata": {},
     "output_type": "execute_result"
    }
   ],
   "source": [
    " 2 > 3"
   ]
  },
  {
   "cell_type": "code",
   "execution_count": 27,
   "id": "30090c22-8b9d-4f62-bd78-726858282318",
   "metadata": {},
   "outputs": [
    {
     "data": {
      "text/plain": [
       "true"
      ]
     },
     "execution_count": 27,
     "metadata": {},
     "output_type": "execute_result"
    }
   ],
   "source": [
    "4 == 4"
   ]
  },
  {
   "cell_type": "code",
   "execution_count": null,
   "id": "ea79c04a-ab1f-45d4-a057-b0f45e93af51",
   "metadata": {},
   "outputs": [],
   "source": [
    "#Haz una operacion logica: "
   ]
  },
  {
   "cell_type": "markdown",
   "id": "ec8b314d-56ff-46d0-b420-9a2fef04643b",
   "metadata": {},
   "source": [
    "<h3>Operadores Boleanos</h3>"
   ]
  },
  {
   "cell_type": "markdown",
   "id": "63485c24-62ab-48b3-8cff-ade215cf223c",
   "metadata": {},
   "source": [
    "<h4>Los operadores booleanos son aquellos que se utilizan para realizar operaciones lógicas entre valores booleanos (True y False). </h4>"
   ]
  },
  {
   "attachments": {},
   "cell_type": "markdown",
   "id": "715593bd-dc0e-43be-95d7-5fb982cccb3a",
   "metadata": {},
   "source": [
    "<img src=Imagenes/Operadores_Boleanos.png width=300px>\n"
   ]
  },
  {
   "cell_type": "code",
   "execution_count": 24,
   "id": "e0035b4d-e354-4c1d-99ff-0ef1dcbb7723",
   "metadata": {},
   "outputs": [
    {
     "data": {
      "text/plain": [
       "false"
      ]
     },
     "execution_count": 24,
     "metadata": {},
     "output_type": "execute_result"
    }
   ],
   "source": [
    "5 == 5 && 5 == 4 #Lo que estamos haciendo aqui es una operacion de boleanos "
   ]
  },
  {
   "cell_type": "markdown",
   "id": "8bbacf48-761b-4135-bb0c-c481d25a2500",
   "metadata": {},
   "source": [
    "<img src=Imagenes/Flecha_Arriba.png width=20px>\n",
    "<h4>Lo que se muestra arriba es un 5 es igual a 5 que nos arroja un true y luego tenemos un 5 es igual a 4, que nos arroja un false, y si nos señimos al algrebra de bool con el operando y nos da false</h4>"
   ]
  },
  {
   "cell_type": "code",
   "execution_count": 25,
   "id": "459ccd59-97b0-4afb-bc96-7eb0760ebbff",
   "metadata": {},
   "outputs": [
    {
     "data": {
      "text/plain": [
       "true"
      ]
     },
     "execution_count": 25,
     "metadata": {},
     "output_type": "execute_result"
    }
   ],
   "source": [
    "5 == 5 || 5 == 4"
   ]
  },
  {
   "cell_type": "markdown",
   "id": "c6cdb10c-870f-43c1-9b63-82837f758a00",
   "metadata": {},
   "source": [
    "<h4>Aqui como utilizamos el or (o) nos da como resultado true debido a que la primera condicion se cumple</h4>"
   ]
  },
  {
   "cell_type": "code",
   "execution_count": null,
   "id": "cd7fe28b-92ea-43f1-8cb1-585e107434bd",
   "metadata": {},
   "outputs": [],
   "source": []
  }
 ],
 "metadata": {
  "kernelspec": {
   "display_name": "Julia 1.10.3",
   "language": "julia",
   "name": "julia-1.10"
  },
  "language_info": {
   "file_extension": ".jl",
   "mimetype": "application/julia",
   "name": "julia",
   "version": "1.10.3"
  }
 },
 "nbformat": 4,
 "nbformat_minor": 5
}
