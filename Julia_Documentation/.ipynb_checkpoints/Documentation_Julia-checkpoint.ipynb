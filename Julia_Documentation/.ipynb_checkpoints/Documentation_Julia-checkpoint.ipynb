{
 "cells": [
  {
   "cell_type": "markdown",
   "id": "ced01506-0b5c-4752-aed1-84af746efd27",
   "metadata": {},
   "source": [
    "<h5>Universidad Jose Antonio Paez</h5>\n",
    "<h4>Intregrantes:</h4>\n",
    "<h4>Juan Vargas<br>\n",
    "Freddy Jaimes</h4>\n",
    "\n",
    "<h6>Number calculation project that deals with the creation of documentation in Jupyter <br> notebook about Julia in order to familiarize ourselves with the language.</h6>"
   ]
  },
  {
   "cell_type": "markdown",
   "id": "e7e0e165-3846-4e30-9a57-875875b471b2",
   "metadata": {},
   "source": [
    "# Primeros pasos en Julia "
   ]
  },
  {
   "cell_type": "markdown",
   "id": "15516c88-28b6-47ed-b377-d79b5fe39c05",
   "metadata": {},
   "source": [
    "<h4>En primera pregunta <b>¿Que es Julia?</b>\n",
    "<h4>Bueno Julia es un lenguaje de programación homoicónico (primitivo) , ​ multiplataforma y multiparadigma de tipado dinámico de alto nivel y alto desempeño para la computación genérica, técnica y científica</h4>\n",
    "<h4>Esto nos dice que julia es como cualquier lenguaje de programacion, con la peculearidad que se centra en el analisis y gestion de datos, su mayor competidor es R. Siendo asi los primeros pasos que vas a dar con este lenguaje vamos a hacer algo muy sencillo nuestro primer hola mundo</h4>"
   ]
  },
  {
   "cell_type": "code",
   "execution_count": 9,
   "id": "73454832-cfc5-47be-aad9-c23ce29af8ab",
   "metadata": {},
   "outputs": [
    {
     "name": "stdout",
     "output_type": "stream",
     "text": [
      "Hello World\n"
     ]
    }
   ],
   "source": [
    "println(\"Hello World\") #Hola Mundo, esto es la iniciazion de tu carrera como programador en Julia (no funcionan las comillas simples)"
   ]
  },
  {
   "cell_type": "code",
   "execution_count": 10,
   "id": "7f804110-6471-4c5b-8c4f-c23fcdc853be",
   "metadata": {},
   "outputs": [],
   "source": [
    "#Ahora tu imprime algo bonito, para correr el programa es shift+enter:"
   ]
  },
  {
   "cell_type": "markdown",
   "id": "ae4edf0e-6c58-44ee-9e3b-1e3a9c89eef1",
   "metadata": {},
   "source": [
    "<h2>Variables</h2>\n",
    "<h4>una variable está formada por un espacio en el sistema de almacenaje y un nombre simbólico que está asociado a dicho espacio. Ese espacio contiene una cantidad de información conocida o desconocida, es decir un valor.</h4>\n",
    "<h4>Imaginate una caja, bueno esa caja es la memoria del computador, y el dato es lo que metes dentro de dicha caja</h4>"
   ]
  },
  {
   "cell_type": "markdown",
   "id": "9b9d1dea-4354-4d00-9536-cc7743351943",
   "metadata": {},
   "source": [
    "<img src=\"https://yosoy.dev/wp-content/uploads/2014/08/variables-en-programacion.png\">"
   ]
  },
  {
   "cell_type": "code",
   "execution_count": null,
   "id": "03ac456a-867a-47c5-b458-0eab0ff296e9",
   "metadata": {},
   "outputs": [],
   "source": []
  }
 ],
 "metadata": {
  "kernelspec": {
   "display_name": "Julia 1.10.3",
   "language": "julia",
   "name": "julia-1.10"
  },
  "language_info": {
   "file_extension": ".jl",
   "mimetype": "application/julia",
   "name": "julia",
   "version": "1.10.3"
  }
 },
 "nbformat": 4,
 "nbformat_minor": 5
}
